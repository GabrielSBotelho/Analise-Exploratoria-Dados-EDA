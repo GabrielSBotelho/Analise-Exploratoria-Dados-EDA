{
 "cells": [
  {
   "cell_type": "markdown",
   "metadata": {},
   "source": [
    "# Imports"
   ]
  },
  {
   "cell_type": "code",
   "execution_count": 1,
   "metadata": {},
   "outputs": [],
   "source": [
    "import pandas as pd\n",
    "import numpy as np\n",
    "import matplotlib.pyplot as plt\n",
    "import scipy.stats as stats\n",
    "import seaborn as sns"
   ]
  },
  {
   "cell_type": "code",
   "execution_count": 2,
   "metadata": {},
   "outputs": [
    {
     "name": "stderr",
     "output_type": "stream",
     "text": [
      "C:\\Users\\gabri\\anaconda3\\lib\\site-packages\\IPython\\core\\interactiveshell.py:3147: DtypeWarning: Columns (25,51) have mixed types.Specify dtype option on import or set low_memory=False.\n",
      "  interactivity=interactivity, compiler=compiler, result=result)\n"
     ]
    }
   ],
   "source": [
    "df = pd.read_csv('NFL Play by Play 2009-2016 (v3).csv')"
   ]
  },
  {
   "cell_type": "code",
   "execution_count": 3,
   "metadata": {},
   "outputs": [
    {
     "data": {
      "text/html": [
       "<div>\n",
       "<style scoped>\n",
       "    .dataframe tbody tr th:only-of-type {\n",
       "        vertical-align: middle;\n",
       "    }\n",
       "\n",
       "    .dataframe tbody tr th {\n",
       "        vertical-align: top;\n",
       "    }\n",
       "\n",
       "    .dataframe thead th {\n",
       "        text-align: right;\n",
       "    }\n",
       "</style>\n",
       "<table border=\"1\" class=\"dataframe\">\n",
       "  <thead>\n",
       "    <tr style=\"text-align: right;\">\n",
       "      <th></th>\n",
       "      <th>Date</th>\n",
       "      <th>GameID</th>\n",
       "      <th>Drive</th>\n",
       "      <th>qtr</th>\n",
       "      <th>down</th>\n",
       "      <th>time</th>\n",
       "      <th>TimeUnder</th>\n",
       "      <th>TimeSecs</th>\n",
       "      <th>PlayTimeDiff</th>\n",
       "      <th>SideofField</th>\n",
       "      <th>...</th>\n",
       "      <th>yacEPA</th>\n",
       "      <th>Home_WP_pre</th>\n",
       "      <th>Away_WP_pre</th>\n",
       "      <th>Home_WP_post</th>\n",
       "      <th>Away_WP_post</th>\n",
       "      <th>Win_Prob</th>\n",
       "      <th>WPA</th>\n",
       "      <th>airWPA</th>\n",
       "      <th>yacWPA</th>\n",
       "      <th>Season</th>\n",
       "    </tr>\n",
       "  </thead>\n",
       "  <tbody>\n",
       "    <tr>\n",
       "      <th>0</th>\n",
       "      <td>2009-09-10</td>\n",
       "      <td>2009091000</td>\n",
       "      <td>1</td>\n",
       "      <td>1</td>\n",
       "      <td>NaN</td>\n",
       "      <td>15:00</td>\n",
       "      <td>15</td>\n",
       "      <td>3600.0</td>\n",
       "      <td>0.0</td>\n",
       "      <td>TEN</td>\n",
       "      <td>...</td>\n",
       "      <td>NaN</td>\n",
       "      <td>0.485675</td>\n",
       "      <td>0.514325</td>\n",
       "      <td>0.546433</td>\n",
       "      <td>0.453567</td>\n",
       "      <td>0.485675</td>\n",
       "      <td>0.060758</td>\n",
       "      <td>NaN</td>\n",
       "      <td>NaN</td>\n",
       "      <td>2009</td>\n",
       "    </tr>\n",
       "    <tr>\n",
       "      <th>1</th>\n",
       "      <td>2009-09-10</td>\n",
       "      <td>2009091000</td>\n",
       "      <td>1</td>\n",
       "      <td>1</td>\n",
       "      <td>1.0</td>\n",
       "      <td>14:53</td>\n",
       "      <td>15</td>\n",
       "      <td>3593.0</td>\n",
       "      <td>7.0</td>\n",
       "      <td>PIT</td>\n",
       "      <td>...</td>\n",
       "      <td>1.146076</td>\n",
       "      <td>0.546433</td>\n",
       "      <td>0.453567</td>\n",
       "      <td>0.551088</td>\n",
       "      <td>0.448912</td>\n",
       "      <td>0.546433</td>\n",
       "      <td>0.004655</td>\n",
       "      <td>-0.032244</td>\n",
       "      <td>0.036899</td>\n",
       "      <td>2009</td>\n",
       "    </tr>\n",
       "    <tr>\n",
       "      <th>2</th>\n",
       "      <td>2009-09-10</td>\n",
       "      <td>2009091000</td>\n",
       "      <td>1</td>\n",
       "      <td>1</td>\n",
       "      <td>2.0</td>\n",
       "      <td>14:16</td>\n",
       "      <td>15</td>\n",
       "      <td>3556.0</td>\n",
       "      <td>37.0</td>\n",
       "      <td>PIT</td>\n",
       "      <td>...</td>\n",
       "      <td>NaN</td>\n",
       "      <td>0.551088</td>\n",
       "      <td>0.448912</td>\n",
       "      <td>0.510793</td>\n",
       "      <td>0.489207</td>\n",
       "      <td>0.551088</td>\n",
       "      <td>-0.040295</td>\n",
       "      <td>NaN</td>\n",
       "      <td>NaN</td>\n",
       "      <td>2009</td>\n",
       "    </tr>\n",
       "    <tr>\n",
       "      <th>3</th>\n",
       "      <td>2009-09-10</td>\n",
       "      <td>2009091000</td>\n",
       "      <td>1</td>\n",
       "      <td>1</td>\n",
       "      <td>3.0</td>\n",
       "      <td>13:35</td>\n",
       "      <td>14</td>\n",
       "      <td>3515.0</td>\n",
       "      <td>41.0</td>\n",
       "      <td>PIT</td>\n",
       "      <td>...</td>\n",
       "      <td>-5.031425</td>\n",
       "      <td>0.510793</td>\n",
       "      <td>0.489207</td>\n",
       "      <td>0.461217</td>\n",
       "      <td>0.538783</td>\n",
       "      <td>0.510793</td>\n",
       "      <td>-0.049576</td>\n",
       "      <td>0.106663</td>\n",
       "      <td>-0.156239</td>\n",
       "      <td>2009</td>\n",
       "    </tr>\n",
       "    <tr>\n",
       "      <th>4</th>\n",
       "      <td>2009-09-10</td>\n",
       "      <td>2009091000</td>\n",
       "      <td>1</td>\n",
       "      <td>1</td>\n",
       "      <td>4.0</td>\n",
       "      <td>13:27</td>\n",
       "      <td>14</td>\n",
       "      <td>3507.0</td>\n",
       "      <td>8.0</td>\n",
       "      <td>PIT</td>\n",
       "      <td>...</td>\n",
       "      <td>NaN</td>\n",
       "      <td>0.461217</td>\n",
       "      <td>0.538783</td>\n",
       "      <td>0.558929</td>\n",
       "      <td>0.441071</td>\n",
       "      <td>0.461217</td>\n",
       "      <td>0.097712</td>\n",
       "      <td>NaN</td>\n",
       "      <td>NaN</td>\n",
       "      <td>2009</td>\n",
       "    </tr>\n",
       "  </tbody>\n",
       "</table>\n",
       "<p>5 rows × 102 columns</p>\n",
       "</div>"
      ],
      "text/plain": [
       "         Date      GameID  Drive  qtr  down   time  TimeUnder  TimeSecs  \\\n",
       "0  2009-09-10  2009091000      1    1   NaN  15:00         15    3600.0   \n",
       "1  2009-09-10  2009091000      1    1   1.0  14:53         15    3593.0   \n",
       "2  2009-09-10  2009091000      1    1   2.0  14:16         15    3556.0   \n",
       "3  2009-09-10  2009091000      1    1   3.0  13:35         14    3515.0   \n",
       "4  2009-09-10  2009091000      1    1   4.0  13:27         14    3507.0   \n",
       "\n",
       "   PlayTimeDiff SideofField  ...    yacEPA  Home_WP_pre  Away_WP_pre  \\\n",
       "0           0.0         TEN  ...       NaN     0.485675     0.514325   \n",
       "1           7.0         PIT  ...  1.146076     0.546433     0.453567   \n",
       "2          37.0         PIT  ...       NaN     0.551088     0.448912   \n",
       "3          41.0         PIT  ... -5.031425     0.510793     0.489207   \n",
       "4           8.0         PIT  ...       NaN     0.461217     0.538783   \n",
       "\n",
       "   Home_WP_post  Away_WP_post  Win_Prob       WPA    airWPA    yacWPA  Season  \n",
       "0      0.546433      0.453567  0.485675  0.060758       NaN       NaN    2009  \n",
       "1      0.551088      0.448912  0.546433  0.004655 -0.032244  0.036899    2009  \n",
       "2      0.510793      0.489207  0.551088 -0.040295       NaN       NaN    2009  \n",
       "3      0.461217      0.538783  0.510793 -0.049576  0.106663 -0.156239    2009  \n",
       "4      0.558929      0.441071  0.461217  0.097712       NaN       NaN    2009  \n",
       "\n",
       "[5 rows x 102 columns]"
      ]
     },
     "execution_count": 3,
     "metadata": {},
     "output_type": "execute_result"
    }
   ],
   "source": [
    "df.head(5)"
   ]
  },
  {
   "cell_type": "code",
   "execution_count": 4,
   "metadata": {},
   "outputs": [],
   "source": [
    "df.drop(df.iloc[:, 30:102], inplace=True, axis=1)"
   ]
  },
  {
   "cell_type": "code",
   "execution_count": 5,
   "metadata": {},
   "outputs": [
    {
     "data": {
      "text/html": [
       "<div>\n",
       "<style scoped>\n",
       "    .dataframe tbody tr th:only-of-type {\n",
       "        vertical-align: middle;\n",
       "    }\n",
       "\n",
       "    .dataframe tbody tr th {\n",
       "        vertical-align: top;\n",
       "    }\n",
       "\n",
       "    .dataframe thead th {\n",
       "        text-align: right;\n",
       "    }\n",
       "</style>\n",
       "<table border=\"1\" class=\"dataframe\">\n",
       "  <thead>\n",
       "    <tr style=\"text-align: right;\">\n",
       "      <th></th>\n",
       "      <th>Date</th>\n",
       "      <th>GameID</th>\n",
       "      <th>Drive</th>\n",
       "      <th>qtr</th>\n",
       "      <th>down</th>\n",
       "      <th>time</th>\n",
       "      <th>TimeUnder</th>\n",
       "      <th>TimeSecs</th>\n",
       "      <th>PlayTimeDiff</th>\n",
       "      <th>SideofField</th>\n",
       "      <th>...</th>\n",
       "      <th>Yards.Gained</th>\n",
       "      <th>sp</th>\n",
       "      <th>Touchdown</th>\n",
       "      <th>ExPointResult</th>\n",
       "      <th>TwoPointConv</th>\n",
       "      <th>DefTwoPoint</th>\n",
       "      <th>Safety</th>\n",
       "      <th>Onsidekick</th>\n",
       "      <th>PuntResult</th>\n",
       "      <th>PlayType</th>\n",
       "    </tr>\n",
       "  </thead>\n",
       "  <tbody>\n",
       "    <tr>\n",
       "      <th>0</th>\n",
       "      <td>2009-09-10</td>\n",
       "      <td>2009091000</td>\n",
       "      <td>1</td>\n",
       "      <td>1</td>\n",
       "      <td>NaN</td>\n",
       "      <td>15:00</td>\n",
       "      <td>15</td>\n",
       "      <td>3600.0</td>\n",
       "      <td>0.0</td>\n",
       "      <td>TEN</td>\n",
       "      <td>...</td>\n",
       "      <td>39</td>\n",
       "      <td>0</td>\n",
       "      <td>0</td>\n",
       "      <td>NaN</td>\n",
       "      <td>NaN</td>\n",
       "      <td>NaN</td>\n",
       "      <td>0</td>\n",
       "      <td>0</td>\n",
       "      <td>NaN</td>\n",
       "      <td>Kickoff</td>\n",
       "    </tr>\n",
       "    <tr>\n",
       "      <th>1</th>\n",
       "      <td>2009-09-10</td>\n",
       "      <td>2009091000</td>\n",
       "      <td>1</td>\n",
       "      <td>1</td>\n",
       "      <td>1.0</td>\n",
       "      <td>14:53</td>\n",
       "      <td>15</td>\n",
       "      <td>3593.0</td>\n",
       "      <td>7.0</td>\n",
       "      <td>PIT</td>\n",
       "      <td>...</td>\n",
       "      <td>5</td>\n",
       "      <td>0</td>\n",
       "      <td>0</td>\n",
       "      <td>NaN</td>\n",
       "      <td>NaN</td>\n",
       "      <td>NaN</td>\n",
       "      <td>0</td>\n",
       "      <td>0</td>\n",
       "      <td>NaN</td>\n",
       "      <td>Pass</td>\n",
       "    </tr>\n",
       "    <tr>\n",
       "      <th>2</th>\n",
       "      <td>2009-09-10</td>\n",
       "      <td>2009091000</td>\n",
       "      <td>1</td>\n",
       "      <td>1</td>\n",
       "      <td>2.0</td>\n",
       "      <td>14:16</td>\n",
       "      <td>15</td>\n",
       "      <td>3556.0</td>\n",
       "      <td>37.0</td>\n",
       "      <td>PIT</td>\n",
       "      <td>...</td>\n",
       "      <td>-3</td>\n",
       "      <td>0</td>\n",
       "      <td>0</td>\n",
       "      <td>NaN</td>\n",
       "      <td>NaN</td>\n",
       "      <td>NaN</td>\n",
       "      <td>0</td>\n",
       "      <td>0</td>\n",
       "      <td>NaN</td>\n",
       "      <td>Run</td>\n",
       "    </tr>\n",
       "    <tr>\n",
       "      <th>3</th>\n",
       "      <td>2009-09-10</td>\n",
       "      <td>2009091000</td>\n",
       "      <td>1</td>\n",
       "      <td>1</td>\n",
       "      <td>3.0</td>\n",
       "      <td>13:35</td>\n",
       "      <td>14</td>\n",
       "      <td>3515.0</td>\n",
       "      <td>41.0</td>\n",
       "      <td>PIT</td>\n",
       "      <td>...</td>\n",
       "      <td>0</td>\n",
       "      <td>0</td>\n",
       "      <td>0</td>\n",
       "      <td>NaN</td>\n",
       "      <td>NaN</td>\n",
       "      <td>NaN</td>\n",
       "      <td>0</td>\n",
       "      <td>0</td>\n",
       "      <td>NaN</td>\n",
       "      <td>Pass</td>\n",
       "    </tr>\n",
       "    <tr>\n",
       "      <th>4</th>\n",
       "      <td>2009-09-10</td>\n",
       "      <td>2009091000</td>\n",
       "      <td>1</td>\n",
       "      <td>1</td>\n",
       "      <td>4.0</td>\n",
       "      <td>13:27</td>\n",
       "      <td>14</td>\n",
       "      <td>3507.0</td>\n",
       "      <td>8.0</td>\n",
       "      <td>PIT</td>\n",
       "      <td>...</td>\n",
       "      <td>0</td>\n",
       "      <td>0</td>\n",
       "      <td>0</td>\n",
       "      <td>NaN</td>\n",
       "      <td>NaN</td>\n",
       "      <td>NaN</td>\n",
       "      <td>0</td>\n",
       "      <td>0</td>\n",
       "      <td>Clean</td>\n",
       "      <td>Punt</td>\n",
       "    </tr>\n",
       "  </tbody>\n",
       "</table>\n",
       "<p>5 rows × 30 columns</p>\n",
       "</div>"
      ],
      "text/plain": [
       "         Date      GameID  Drive  qtr  down   time  TimeUnder  TimeSecs  \\\n",
       "0  2009-09-10  2009091000      1    1   NaN  15:00         15    3600.0   \n",
       "1  2009-09-10  2009091000      1    1   1.0  14:53         15    3593.0   \n",
       "2  2009-09-10  2009091000      1    1   2.0  14:16         15    3556.0   \n",
       "3  2009-09-10  2009091000      1    1   3.0  13:35         14    3515.0   \n",
       "4  2009-09-10  2009091000      1    1   4.0  13:27         14    3507.0   \n",
       "\n",
       "   PlayTimeDiff SideofField  ...  Yards.Gained  sp  Touchdown  ExPointResult  \\\n",
       "0           0.0         TEN  ...            39   0          0            NaN   \n",
       "1           7.0         PIT  ...             5   0          0            NaN   \n",
       "2          37.0         PIT  ...            -3   0          0            NaN   \n",
       "3          41.0         PIT  ...             0   0          0            NaN   \n",
       "4           8.0         PIT  ...             0   0          0            NaN   \n",
       "\n",
       "   TwoPointConv  DefTwoPoint Safety Onsidekick PuntResult  PlayType  \n",
       "0           NaN          NaN      0          0        NaN   Kickoff  \n",
       "1           NaN          NaN      0          0        NaN      Pass  \n",
       "2           NaN          NaN      0          0        NaN       Run  \n",
       "3           NaN          NaN      0          0        NaN      Pass  \n",
       "4           NaN          NaN      0          0      Clean      Punt  \n",
       "\n",
       "[5 rows x 30 columns]"
      ]
     },
     "execution_count": 5,
     "metadata": {},
     "output_type": "execute_result"
    }
   ],
   "source": [
    "df.head()"
   ]
  },
  {
   "cell_type": "code",
   "execution_count": 6,
   "metadata": {},
   "outputs": [
    {
     "data": {
      "text/html": [
       "<div>\n",
       "<style scoped>\n",
       "    .dataframe tbody tr th:only-of-type {\n",
       "        vertical-align: middle;\n",
       "    }\n",
       "\n",
       "    .dataframe tbody tr th {\n",
       "        vertical-align: top;\n",
       "    }\n",
       "\n",
       "    .dataframe thead th {\n",
       "        text-align: right;\n",
       "    }\n",
       "</style>\n",
       "<table border=\"1\" class=\"dataframe\">\n",
       "  <thead>\n",
       "    <tr style=\"text-align: right;\">\n",
       "      <th></th>\n",
       "      <th>GameID</th>\n",
       "      <th>Drive</th>\n",
       "      <th>qtr</th>\n",
       "      <th>down</th>\n",
       "      <th>TimeUnder</th>\n",
       "      <th>TimeSecs</th>\n",
       "      <th>PlayTimeDiff</th>\n",
       "      <th>yrdln</th>\n",
       "      <th>yrdline100</th>\n",
       "      <th>ydstogo</th>\n",
       "      <th>ydsnet</th>\n",
       "      <th>GoalToGo</th>\n",
       "      <th>FirstDown</th>\n",
       "      <th>PlayAttempted</th>\n",
       "      <th>Yards.Gained</th>\n",
       "      <th>sp</th>\n",
       "      <th>Touchdown</th>\n",
       "      <th>Safety</th>\n",
       "      <th>Onsidekick</th>\n",
       "    </tr>\n",
       "  </thead>\n",
       "  <tbody>\n",
       "    <tr>\n",
       "      <th>count</th>\n",
       "      <td>3.624470e+05</td>\n",
       "      <td>362447.000000</td>\n",
       "      <td>362447.000000</td>\n",
       "      <td>308229.000000</td>\n",
       "      <td>362447.000000</td>\n",
       "      <td>362259.000000</td>\n",
       "      <td>362073.000000</td>\n",
       "      <td>361724.000000</td>\n",
       "      <td>361724.000000</td>\n",
       "      <td>362447.000000</td>\n",
       "      <td>362447.000000</td>\n",
       "      <td>361724.000000</td>\n",
       "      <td>336850.000000</td>\n",
       "      <td>362447.0</td>\n",
       "      <td>362447.000000</td>\n",
       "      <td>362447.000000</td>\n",
       "      <td>362447.000000</td>\n",
       "      <td>362447.000000</td>\n",
       "      <td>362447.000000</td>\n",
       "    </tr>\n",
       "    <tr>\n",
       "      <th>mean</th>\n",
       "      <td>2.012664e+09</td>\n",
       "      <td>12.347088</td>\n",
       "      <td>2.578231</td>\n",
       "      <td>2.001226</td>\n",
       "      <td>7.386076</td>\n",
       "      <td>1695.234346</td>\n",
       "      <td>20.574649</td>\n",
       "      <td>28.413542</td>\n",
       "      <td>48.616807</td>\n",
       "      <td>7.305236</td>\n",
       "      <td>25.907895</td>\n",
       "      <td>0.049422</td>\n",
       "      <td>0.291183</td>\n",
       "      <td>1.0</td>\n",
       "      <td>5.034595</td>\n",
       "      <td>0.072171</td>\n",
       "      <td>0.029166</td>\n",
       "      <td>0.000392</td>\n",
       "      <td>0.001368</td>\n",
       "    </tr>\n",
       "    <tr>\n",
       "      <th>std</th>\n",
       "      <td>2.292258e+06</td>\n",
       "      <td>7.168173</td>\n",
       "      <td>1.130259</td>\n",
       "      <td>1.006003</td>\n",
       "      <td>4.642132</td>\n",
       "      <td>1063.065717</td>\n",
       "      <td>18.030486</td>\n",
       "      <td>13.002355</td>\n",
       "      <td>25.161965</td>\n",
       "      <td>4.863445</td>\n",
       "      <td>24.859579</td>\n",
       "      <td>0.216747</td>\n",
       "      <td>0.454308</td>\n",
       "      <td>0.0</td>\n",
       "      <td>9.144627</td>\n",
       "      <td>0.258770</td>\n",
       "      <td>0.168271</td>\n",
       "      <td>0.019790</td>\n",
       "      <td>0.036968</td>\n",
       "    </tr>\n",
       "    <tr>\n",
       "      <th>min</th>\n",
       "      <td>2.009091e+09</td>\n",
       "      <td>1.000000</td>\n",
       "      <td>1.000000</td>\n",
       "      <td>1.000000</td>\n",
       "      <td>0.000000</td>\n",
       "      <td>-900.000000</td>\n",
       "      <td>0.000000</td>\n",
       "      <td>1.000000</td>\n",
       "      <td>1.000000</td>\n",
       "      <td>0.000000</td>\n",
       "      <td>-87.000000</td>\n",
       "      <td>0.000000</td>\n",
       "      <td>0.000000</td>\n",
       "      <td>1.0</td>\n",
       "      <td>-74.000000</td>\n",
       "      <td>0.000000</td>\n",
       "      <td>0.000000</td>\n",
       "      <td>0.000000</td>\n",
       "      <td>0.000000</td>\n",
       "    </tr>\n",
       "    <tr>\n",
       "      <th>25%</th>\n",
       "      <td>2.011091e+09</td>\n",
       "      <td>6.000000</td>\n",
       "      <td>2.000000</td>\n",
       "      <td>1.000000</td>\n",
       "      <td>3.000000</td>\n",
       "      <td>778.000000</td>\n",
       "      <td>5.000000</td>\n",
       "      <td>20.000000</td>\n",
       "      <td>30.000000</td>\n",
       "      <td>3.000000</td>\n",
       "      <td>5.000000</td>\n",
       "      <td>0.000000</td>\n",
       "      <td>0.000000</td>\n",
       "      <td>1.0</td>\n",
       "      <td>0.000000</td>\n",
       "      <td>0.000000</td>\n",
       "      <td>0.000000</td>\n",
       "      <td>0.000000</td>\n",
       "      <td>0.000000</td>\n",
       "    </tr>\n",
       "    <tr>\n",
       "      <th>50%</th>\n",
       "      <td>2.013091e+09</td>\n",
       "      <td>12.000000</td>\n",
       "      <td>3.000000</td>\n",
       "      <td>2.000000</td>\n",
       "      <td>7.000000</td>\n",
       "      <td>1800.000000</td>\n",
       "      <td>17.000000</td>\n",
       "      <td>30.000000</td>\n",
       "      <td>49.000000</td>\n",
       "      <td>9.000000</td>\n",
       "      <td>19.000000</td>\n",
       "      <td>0.000000</td>\n",
       "      <td>0.000000</td>\n",
       "      <td>1.0</td>\n",
       "      <td>1.000000</td>\n",
       "      <td>0.000000</td>\n",
       "      <td>0.000000</td>\n",
       "      <td>0.000000</td>\n",
       "      <td>0.000000</td>\n",
       "    </tr>\n",
       "    <tr>\n",
       "      <th>75%</th>\n",
       "      <td>2.015091e+09</td>\n",
       "      <td>18.000000</td>\n",
       "      <td>4.000000</td>\n",
       "      <td>3.000000</td>\n",
       "      <td>11.000000</td>\n",
       "      <td>2585.000000</td>\n",
       "      <td>37.000000</td>\n",
       "      <td>39.000000</td>\n",
       "      <td>70.000000</td>\n",
       "      <td>10.000000</td>\n",
       "      <td>43.000000</td>\n",
       "      <td>0.000000</td>\n",
       "      <td>1.000000</td>\n",
       "      <td>1.0</td>\n",
       "      <td>7.000000</td>\n",
       "      <td>0.000000</td>\n",
       "      <td>0.000000</td>\n",
       "      <td>0.000000</td>\n",
       "      <td>0.000000</td>\n",
       "    </tr>\n",
       "    <tr>\n",
       "      <th>max</th>\n",
       "      <td>2.017010e+09</td>\n",
       "      <td>35.000000</td>\n",
       "      <td>5.000000</td>\n",
       "      <td>4.000000</td>\n",
       "      <td>15.000000</td>\n",
       "      <td>3600.000000</td>\n",
       "      <td>943.000000</td>\n",
       "      <td>50.000000</td>\n",
       "      <td>99.000000</td>\n",
       "      <td>50.000000</td>\n",
       "      <td>99.000000</td>\n",
       "      <td>1.000000</td>\n",
       "      <td>1.000000</td>\n",
       "      <td>1.0</td>\n",
       "      <td>99.000000</td>\n",
       "      <td>1.000000</td>\n",
       "      <td>1.000000</td>\n",
       "      <td>1.000000</td>\n",
       "      <td>1.000000</td>\n",
       "    </tr>\n",
       "  </tbody>\n",
       "</table>\n",
       "</div>"
      ],
      "text/plain": [
       "             GameID          Drive            qtr           down  \\\n",
       "count  3.624470e+05  362447.000000  362447.000000  308229.000000   \n",
       "mean   2.012664e+09      12.347088       2.578231       2.001226   \n",
       "std    2.292258e+06       7.168173       1.130259       1.006003   \n",
       "min    2.009091e+09       1.000000       1.000000       1.000000   \n",
       "25%    2.011091e+09       6.000000       2.000000       1.000000   \n",
       "50%    2.013091e+09      12.000000       3.000000       2.000000   \n",
       "75%    2.015091e+09      18.000000       4.000000       3.000000   \n",
       "max    2.017010e+09      35.000000       5.000000       4.000000   \n",
       "\n",
       "           TimeUnder       TimeSecs   PlayTimeDiff          yrdln  \\\n",
       "count  362447.000000  362259.000000  362073.000000  361724.000000   \n",
       "mean        7.386076    1695.234346      20.574649      28.413542   \n",
       "std         4.642132    1063.065717      18.030486      13.002355   \n",
       "min         0.000000    -900.000000       0.000000       1.000000   \n",
       "25%         3.000000     778.000000       5.000000      20.000000   \n",
       "50%         7.000000    1800.000000      17.000000      30.000000   \n",
       "75%        11.000000    2585.000000      37.000000      39.000000   \n",
       "max        15.000000    3600.000000     943.000000      50.000000   \n",
       "\n",
       "          yrdline100        ydstogo         ydsnet       GoalToGo  \\\n",
       "count  361724.000000  362447.000000  362447.000000  361724.000000   \n",
       "mean       48.616807       7.305236      25.907895       0.049422   \n",
       "std        25.161965       4.863445      24.859579       0.216747   \n",
       "min         1.000000       0.000000     -87.000000       0.000000   \n",
       "25%        30.000000       3.000000       5.000000       0.000000   \n",
       "50%        49.000000       9.000000      19.000000       0.000000   \n",
       "75%        70.000000      10.000000      43.000000       0.000000   \n",
       "max        99.000000      50.000000      99.000000       1.000000   \n",
       "\n",
       "           FirstDown  PlayAttempted   Yards.Gained             sp  \\\n",
       "count  336850.000000       362447.0  362447.000000  362447.000000   \n",
       "mean        0.291183            1.0       5.034595       0.072171   \n",
       "std         0.454308            0.0       9.144627       0.258770   \n",
       "min         0.000000            1.0     -74.000000       0.000000   \n",
       "25%         0.000000            1.0       0.000000       0.000000   \n",
       "50%         0.000000            1.0       1.000000       0.000000   \n",
       "75%         1.000000            1.0       7.000000       0.000000   \n",
       "max         1.000000            1.0      99.000000       1.000000   \n",
       "\n",
       "           Touchdown         Safety     Onsidekick  \n",
       "count  362447.000000  362447.000000  362447.000000  \n",
       "mean        0.029166       0.000392       0.001368  \n",
       "std         0.168271       0.019790       0.036968  \n",
       "min         0.000000       0.000000       0.000000  \n",
       "25%         0.000000       0.000000       0.000000  \n",
       "50%         0.000000       0.000000       0.000000  \n",
       "75%         0.000000       0.000000       0.000000  \n",
       "max         1.000000       1.000000       1.000000  "
      ]
     },
     "execution_count": 6,
     "metadata": {},
     "output_type": "execute_result"
    }
   ],
   "source": [
    "df.describe()"
   ]
  },
  {
   "cell_type": "code",
   "execution_count": null,
   "metadata": {},
   "outputs": [],
   "source": []
  },
  {
   "cell_type": "markdown",
   "metadata": {},
   "source": [
    "## 1 - Verique a quantidade de valores faltantes de cada atributo. Descarte as colunas que tem uma quantidade de valores faltantes maior que 10% do tamanho do conjunto de dados"
   ]
  },
  {
   "cell_type": "code",
   "execution_count": 7,
   "metadata": {
    "scrolled": true
   },
   "outputs": [
    {
     "name": "stdout",
     "output_type": "stream",
     "text": [
      "<class 'pandas.core.frame.DataFrame'>\n",
      "RangeIndex: 362447 entries, 0 to 362446\n",
      "Data columns (total 30 columns):\n",
      " #   Column         Non-Null Count   Dtype  \n",
      "---  ------         --------------   -----  \n",
      " 0   Date           362447 non-null  object \n",
      " 1   GameID         362447 non-null  int64  \n",
      " 2   Drive          362447 non-null  int64  \n",
      " 3   qtr            362447 non-null  int64  \n",
      " 4   down           308229 non-null  float64\n",
      " 5   time           362259 non-null  object \n",
      " 6   TimeUnder      362447 non-null  int64  \n",
      " 7   TimeSecs       362259 non-null  float64\n",
      " 8   PlayTimeDiff   362073 non-null  float64\n",
      " 9   SideofField    361997 non-null  object \n",
      " 10  yrdln          361724 non-null  float64\n",
      " 11  yrdline100     361724 non-null  float64\n",
      " 12  ydstogo        362447 non-null  int64  \n",
      " 13  ydsnet         362447 non-null  int64  \n",
      " 14  GoalToGo       361724 non-null  float64\n",
      " 15  FirstDown      336850 non-null  float64\n",
      " 16  posteam        340468 non-null  object \n",
      " 17  DefensiveTeam  340468 non-null  object \n",
      " 18  desc           362445 non-null  object \n",
      " 19  PlayAttempted  362447 non-null  int64  \n",
      " 20  Yards.Gained   362447 non-null  int64  \n",
      " 21  sp             362447 non-null  int64  \n",
      " 22  Touchdown      362447 non-null  int64  \n",
      " 23  ExPointResult  9048 non-null    object \n",
      " 24  TwoPointConv   528 non-null     object \n",
      " 25  DefTwoPoint    14 non-null      object \n",
      " 26  Safety         362447 non-null  int64  \n",
      " 27  Onsidekick     362447 non-null  int64  \n",
      " 28  PuntResult     19887 non-null   object \n",
      " 29  PlayType       362447 non-null  object \n",
      "dtypes: float64(7), int64(12), object(11)\n",
      "memory usage: 83.0+ MB\n"
     ]
    }
   ],
   "source": [
    "df.info()"
   ]
  },
  {
   "cell_type": "code",
   "execution_count": 8,
   "metadata": {},
   "outputs": [
    {
     "name": "stdout",
     "output_type": "stream",
     "text": [
      "['Date', 'GameID', 'Drive', 'qtr', 'down', 'time', 'TimeUnder', 'TimeSecs', 'PlayTimeDiff', 'SideofField', 'yrdln', 'yrdline100', 'ydstogo', 'ydsnet', 'GoalToGo', 'FirstDown', 'posteam', 'DefensiveTeam', 'desc', 'PlayAttempted', 'Yards.Gained', 'sp', 'Touchdown', 'ExPointResult', 'TwoPointConv', 'DefTwoPoint', 'Safety', 'Onsidekick', 'PuntResult', 'PlayType']\n"
     ]
    }
   ],
   "source": [
    "columns = []\n",
    "for cols in df.columns:\n",
    "    columns.append(cols)\n",
    "\n",
    "print(columns)"
   ]
  },
  {
   "cell_type": "code",
   "execution_count": 9,
   "metadata": {},
   "outputs": [],
   "source": [
    "def find_columns_nan(df):\n",
    "    for i in columns:\n",
    "        if df[i].isna().sum() > 36245:\n",
    "            print(i)"
   ]
  },
  {
   "cell_type": "code",
   "execution_count": 10,
   "metadata": {
    "scrolled": true
   },
   "outputs": [
    {
     "name": "stdout",
     "output_type": "stream",
     "text": [
      "down\n",
      "ExPointResult\n",
      "TwoPointConv\n",
      "DefTwoPoint\n",
      "PuntResult\n"
     ]
    }
   ],
   "source": [
    "find_columns_nan(df)"
   ]
  },
  {
   "cell_type": "code",
   "execution_count": 11,
   "metadata": {},
   "outputs": [
    {
     "data": {
      "text/plain": [
       "54218"
      ]
     },
     "execution_count": 11,
     "metadata": {},
     "output_type": "execute_result"
    }
   ],
   "source": [
    "df['down'].isna().sum()"
   ]
  },
  {
   "cell_type": "code",
   "execution_count": 12,
   "metadata": {},
   "outputs": [],
   "source": [
    "df = df.drop('down', 1)"
   ]
  },
  {
   "cell_type": "code",
   "execution_count": 13,
   "metadata": {},
   "outputs": [
    {
     "data": {
      "text/plain": [
       "353399"
      ]
     },
     "execution_count": 13,
     "metadata": {},
     "output_type": "execute_result"
    }
   ],
   "source": [
    "df['ExPointResult'].isna().sum()"
   ]
  },
  {
   "cell_type": "code",
   "execution_count": 14,
   "metadata": {},
   "outputs": [],
   "source": [
    "df = df.drop('ExPointResult', 1)"
   ]
  },
  {
   "cell_type": "code",
   "execution_count": 15,
   "metadata": {},
   "outputs": [
    {
     "data": {
      "text/plain": [
       "361919"
      ]
     },
     "execution_count": 15,
     "metadata": {},
     "output_type": "execute_result"
    }
   ],
   "source": [
    "df['TwoPointConv'].isna().sum()"
   ]
  },
  {
   "cell_type": "code",
   "execution_count": 16,
   "metadata": {},
   "outputs": [],
   "source": [
    "df = df.drop('TwoPointConv', 1)"
   ]
  },
  {
   "cell_type": "code",
   "execution_count": 17,
   "metadata": {},
   "outputs": [
    {
     "data": {
      "text/plain": [
       "362433"
      ]
     },
     "execution_count": 17,
     "metadata": {},
     "output_type": "execute_result"
    }
   ],
   "source": [
    "df['DefTwoPoint'].isna().sum()"
   ]
  },
  {
   "cell_type": "code",
   "execution_count": 18,
   "metadata": {},
   "outputs": [],
   "source": [
    "df = df.drop('DefTwoPoint', 1)"
   ]
  },
  {
   "cell_type": "code",
   "execution_count": 19,
   "metadata": {},
   "outputs": [
    {
     "data": {
      "text/plain": [
       "342560"
      ]
     },
     "execution_count": 19,
     "metadata": {},
     "output_type": "execute_result"
    }
   ],
   "source": [
    "df['PuntResult'].isna().sum()"
   ]
  },
  {
   "cell_type": "code",
   "execution_count": 20,
   "metadata": {},
   "outputs": [],
   "source": [
    "df = df.drop('PuntResult', 1)"
   ]
  },
  {
   "cell_type": "code",
   "execution_count": null,
   "metadata": {},
   "outputs": [],
   "source": []
  },
  {
   "cell_type": "code",
   "execution_count": null,
   "metadata": {},
   "outputs": [],
   "source": []
  },
  {
   "cell_type": "markdown",
   "metadata": {},
   "source": [
    "## 2 - Substitua os valores ausentes da coluna 'FirstDown\" pelo valor mediano na coluna. Apresente um histograma com distribuição dos valores da coluna antes e depois da substituição."
   ]
  },
  {
   "cell_type": "code",
   "execution_count": 21,
   "metadata": {
    "scrolled": false
   },
   "outputs": [
    {
     "data": {
      "text/plain": [
       "0.0"
      ]
     },
     "execution_count": 21,
     "metadata": {},
     "output_type": "execute_result"
    }
   ],
   "source": [
    "median_value = df['FirstDown'].median()\n",
    "median_value"
   ]
  },
  {
   "cell_type": "code",
   "execution_count": 22,
   "metadata": {},
   "outputs": [
    {
     "data": {
      "text/plain": [
       "<AxesSubplot:>"
      ]
     },
     "execution_count": 22,
     "metadata": {},
     "output_type": "execute_result"
    },
    {
     "data": {
      "image/png": "[encoded data removed]",
      "text/plain": [
       "<Figure size 432x288 with 1 Axes>"
      ]
     },
     "metadata": {
      "needs_background": "light"
     },
     "output_type": "display_data"
    }
   ],
   "source": [
    "df['FirstDown'].hist()"
   ]
  },
  {
   "cell_type": "code",
   "execution_count": 23,
   "metadata": {},
   "outputs": [],
   "source": [
    "df.loc[df['FirstDown'].isna()] = median_value"
   ]
  },
  {
   "cell_type": "code",
   "execution_count": 24,
   "metadata": {},
   "outputs": [
    {
     "data": {
      "text/plain": [
       "0"
      ]
     },
     "execution_count": 24,
     "metadata": {},
     "output_type": "execute_result"
    }
   ],
   "source": [
    "df['FirstDown'].isna().sum()"
   ]
  },
  {
   "cell_type": "code",
   "execution_count": 25,
   "metadata": {},
   "outputs": [
    {
     "data": {
      "text/plain": [
       "<AxesSubplot:>"
      ]
     },
     "execution_count": 25,
     "metadata": {},
     "output_type": "execute_result"
    },
    {
     "data": {
      "image/png": "[encoded data removed]",
      "text/plain": [
       "<Figure size 432x288 with 1 Axes>"
      ]
     },
     "metadata": {
      "needs_background": "light"
     },
     "output_type": "display_data"
    }
   ],
   "source": [
    "df['FirstDown'].hist()"
   ]
  },
  {
   "cell_type": "code",
   "execution_count": null,
   "metadata": {},
   "outputs": [],
   "source": []
  },
  {
   "cell_type": "code",
   "execution_count": null,
   "metadata": {},
   "outputs": [],
   "source": []
  },
  {
   "cell_type": "markdown",
   "metadata": {},
   "source": [
    "## 3 - Substitua os valores ausentes na coluna \"TimeSecs\" pelo valor médio da coluna. Apresente um histograma com distribuição dos valores da coluna antes e depois da substituição."
   ]
  },
  {
   "cell_type": "code",
   "execution_count": 26,
   "metadata": {},
   "outputs": [
    {
     "data": {
      "text/plain": [
       "count    362264.000000\n",
       "mean       1569.965398\n",
       "std        1111.611146\n",
       "min        -900.000000\n",
       "25%         536.000000\n",
       "50%        1613.000000\n",
       "75%        2504.000000\n",
       "max        3600.000000\n",
       "Name: TimeSecs, dtype: float64"
      ]
     },
     "execution_count": 26,
     "metadata": {},
     "output_type": "execute_result"
    }
   ],
   "source": [
    "df['TimeSecs'].describe()"
   ]
  },
  {
   "cell_type": "code",
   "execution_count": 27,
   "metadata": {},
   "outputs": [
    {
     "data": {
      "text/plain": [
       "<AxesSubplot:>"
      ]
     },
     "execution_count": 27,
     "metadata": {},
     "output_type": "execute_result"
    },
    {
     "data": {
      "image/png": "[encoded data removed]",
      "text/plain": [
       "<Figure size 432x288 with 1 Axes>"
      ]
     },
     "metadata": {
      "needs_background": "light"
     },
     "output_type": "display_data"
    }
   ],
   "source": [
    "df['TimeSecs'].hist()"
   ]
  },
  {
   "cell_type": "code",
   "execution_count": 28,
   "metadata": {},
   "outputs": [
    {
     "data": {
      "text/plain": [
       "1569.965398162666"
      ]
     },
     "execution_count": 28,
     "metadata": {},
     "output_type": "execute_result"
    }
   ],
   "source": [
    "mean_value = df['TimeSecs'].mean()\n",
    "mean_value"
   ]
  },
  {
   "cell_type": "code",
   "execution_count": 29,
   "metadata": {},
   "outputs": [],
   "source": [
    "df.loc[df['TimeSecs'].isna()] = mean_value"
   ]
  },
  {
   "cell_type": "code",
   "execution_count": 30,
   "metadata": {},
   "outputs": [
    {
     "data": {
      "text/plain": [
       "<AxesSubplot:>"
      ]
     },
     "execution_count": 30,
     "metadata": {},
     "output_type": "execute_result"
    },
    {
     "data": {
      "image/png": "[encoded data removed]",
      "text/plain": [
       "<Figure size 432x288 with 1 Axes>"
      ]
     },
     "metadata": {
      "needs_background": "light"
     },
     "output_type": "display_data"
    }
   ],
   "source": [
    "df['TimeSecs'].hist()"
   ]
  },
  {
   "cell_type": "code",
   "execution_count": null,
   "metadata": {},
   "outputs": [],
   "source": []
  },
  {
   "cell_type": "code",
   "execution_count": null,
   "metadata": {},
   "outputs": [],
   "source": []
  },
  {
   "cell_type": "markdown",
   "metadata": {},
   "source": [
    "## 4 - Em vez de substituir os valores ausentes, outra abordagem comum é descartar os pontos de dados que contêm valores ausentes. Isso pode ser feito facilmente aplicando a função dropna(). Execute essa abordagem e exiba o número de linhas antes e depois desse tratamento. O ideal é que esse método seja aplicado apenas a atributos que tenham poucos valores faltantes."
   ]
  },
  {
   "cell_type": "code",
   "execution_count": 31,
   "metadata": {},
   "outputs": [
    {
     "data": {
      "text/plain": [
       "563"
      ]
     },
     "execution_count": 31,
     "metadata": {},
     "output_type": "execute_result"
    }
   ],
   "source": [
    "df['GoalToGo'].isna().sum()"
   ]
  },
  {
   "cell_type": "code",
   "execution_count": 32,
   "metadata": {},
   "outputs": [
    {
     "name": "stdout",
     "output_type": "stream",
     "text": [
      "O total de linhas antes de realizar o dropna é de: 362447\n"
     ]
    }
   ],
   "source": [
    "print(\"O total de linhas antes de realizar o dropna é de: {}\".format(len(df)))"
   ]
  },
  {
   "cell_type": "code",
   "execution_count": 33,
   "metadata": {},
   "outputs": [],
   "source": [
    "df.dropna(subset = ['GoalToGo'], inplace=True)"
   ]
  },
  {
   "cell_type": "code",
   "execution_count": 34,
   "metadata": {},
   "outputs": [
    {
     "data": {
      "text/plain": [
       "0"
      ]
     },
     "execution_count": 34,
     "metadata": {},
     "output_type": "execute_result"
    }
   ],
   "source": [
    "df['GoalToGo'].isna().sum()"
   ]
  },
  {
   "cell_type": "code",
   "execution_count": 35,
   "metadata": {},
   "outputs": [
    {
     "name": "stdout",
     "output_type": "stream",
     "text": [
      "O total de linhas depois de realizar o dropna é de: 361884\n"
     ]
    }
   ],
   "source": [
    "print(\"O total de linhas depois de realizar o dropna é de: {}\".format(len(df)))"
   ]
  },
  {
   "cell_type": "code",
   "execution_count": null,
   "metadata": {},
   "outputs": [],
   "source": []
  },
  {
   "cell_type": "code",
   "execution_count": null,
   "metadata": {},
   "outputs": [],
   "source": []
  },
  {
   "cell_type": "markdown",
   "metadata": {},
   "source": [
    "## 5 - Utilizabdo a matplotlib, apressente um boxplot para identificar as colunas na tabela que contêm outliers. Observe que os valores em todas as colunas que são originalmente armazenados como 'int64', com exceção do GameID."
   ]
  },
  {
   "cell_type": "code",
   "execution_count": 36,
   "metadata": {},
   "outputs": [],
   "source": [
    "df_float_cols = df.select_dtypes(include=['float64'])"
   ]
  },
  {
   "cell_type": "code",
   "execution_count": 37,
   "metadata": {},
   "outputs": [
    {
     "name": "stderr",
     "output_type": "stream",
     "text": [
      "C:\\Users\\gabri\\anaconda3\\lib\\site-packages\\matplotlib\\cbook\\__init__.py:1211: RuntimeWarning: invalid value encountered in less_equal\n",
      "  wiskhi = x[x <= hival]\n",
      "C:\\Users\\gabri\\anaconda3\\lib\\site-packages\\matplotlib\\cbook\\__init__.py:1218: RuntimeWarning: invalid value encountered in greater_equal\n",
      "  wisklo = x[x >= loval]\n",
      "C:\\Users\\gabri\\anaconda3\\lib\\site-packages\\matplotlib\\cbook\\__init__.py:1226: RuntimeWarning: invalid value encountered in less\n",
      "  x[x < stats['whislo']],\n",
      "C:\\Users\\gabri\\anaconda3\\lib\\site-packages\\matplotlib\\cbook\\__init__.py:1227: RuntimeWarning: invalid value encountered in greater\n",
      "  x[x > stats['whishi']],\n"
     ]
    },
    {
     "data": {
      "image/png": "[encoded data removed]",
      "text/plain": [
       "<Figure size 432x288 with 1 Axes>"
      ]
     },
     "metadata": {
      "needs_background": "light"
     },
     "output_type": "display_data"
    },
    {
     "data": {
      "image/png": "[encoded data removed]",
      "text/plain": [
       "<Figure size 432x288 with 1 Axes>"
      ]
     },
     "metadata": {
      "needs_background": "light"
     },
     "output_type": "display_data"
    },
    {
     "data": {
      "image/png": "[encoded data removed]",
      "text/plain": [
       "<Figure size 432x288 with 1 Axes>"
      ]
     },
     "metadata": {
      "needs_background": "light"
     },
     "output_type": "display_data"
    },
    {
     "data": {
      "image/png": "[encoded data removed]",
      "text/plain": [
       "<Figure size 432x288 with 1 Axes>"
      ]
     },
     "metadata": {
      "needs_background": "light"
     },
     "output_type": "display_data"
    },
    {
     "data": {
      "image/png": "[encoded data removed]",
      "text/plain": [
       "<Figure size 432x288 with 1 Axes>"
      ]
     },
     "metadata": {
      "needs_background": "light"
     },
     "output_type": "display_data"
    },
    {
     "data": {
      "image/png": "[encoded data removed]",
      "text/plain": [
       "<Figure size 432x288 with 1 Axes>"
      ]
     },
     "metadata": {
      "needs_background": "light"
     },
     "output_type": "display_data"
    },
    {
     "data": {
      "image/png": "[encoded data removed]",
      "text/plain": [
       "<Figure size 432x288 with 1 Axes>"
      ]
     },
     "metadata": {
      "needs_background": "light"
     },
     "output_type": "display_data"
    },
    {
     "data": {
      "image/png": "[encoded data removed]",
      "text/plain": [
       "<Figure size 432x288 with 1 Axes>"
      ]
     },
     "metadata": {
      "needs_background": "light"
     },
     "output_type": "display_data"
    },
    {
     "data": {
      "image/png": "[encoded data removed]",
      "text/plain": [
       "<Figure size 432x288 with 1 Axes>"
      ]
     },
     "metadata": {
      "needs_background": "light"
     },
     "output_type": "display_data"
    },
    {
     "data": {
      "image/png": "[encoded data removed]",
      "text/plain": [
       "<Figure size 432x288 with 1 Axes>"
      ]
     },
     "metadata": {
      "needs_background": "light"
     },
     "output_type": "display_data"
    },
    {
     "data": {
      "image/png": "[encoded data removed]",
      "text/plain": [
       "<Figure size 432x288 with 1 Axes>"
      ]
     },
     "metadata": {
      "needs_background": "light"
     },
     "output_type": "display_data"
    },
    {
     "data": {
      "image/png": "[encoded data removed]",
      "text/plain": [
       "<Figure size 432x288 with 1 Axes>"
      ]
     },
     "metadata": {
      "needs_background": "light"
     },
     "output_type": "display_data"
    },
    {
     "data": {
      "image/png": "[encoded data removed]",
      "text/plain": [
       "<Figure size 432x288 with 1 Axes>"
      ]
     },
     "metadata": {
      "needs_background": "light"
     },
     "output_type": "display_data"
    },
    {
     "data": {
      "image/png": "[encoded data removed]",
      "text/plain": [
       "<Figure size 432x288 with 1 Axes>"
      ]
     },
     "metadata": {
      "needs_background": "light"
     },
     "output_type": "display_data"
    },
    {
     "data": {
      "image/png": "[encoded data removed]",
      "text/plain": [
       "<Figure size 432x288 with 1 Axes>"
      ]
     },
     "metadata": {
      "needs_background": "light"
     },
     "output_type": "display_data"
    },
    {
     "data": {
      "image/png": "[encoded data removed]",
      "text/plain": [
       "<Figure size 432x288 with 1 Axes>"
      ]
     },
     "metadata": {
      "needs_background": "light"
     },
     "output_type": "display_data"
    },
    {
     "data": {
      "image/png": "[encoded data removed]",
      "text/plain": [
       "<Figure size 432x288 with 1 Axes>"
      ]
     },
     "metadata": {
      "needs_background": "light"
     },
     "output_type": "display_data"
    },
    {
     "data": {
      "image/png": "[encoded data removed]",
      "text/plain": [
       "<Figure size 432x288 with 1 Axes>"
      ]
     },
     "metadata": {
      "needs_background": "light"
     },
     "output_type": "display_data"
    }
   ],
   "source": [
    "for cols in df_float_cols.columns:\n",
    "    data = df_float_cols[cols]\n",
    "    fig1, ax1 = plt.subplots()\n",
    "    ax1.set_title(cols)\n",
    "    ax1.boxplot(data)"
   ]
  },
  {
   "cell_type": "code",
   "execution_count": null,
   "metadata": {},
   "outputs": [],
   "source": []
  },
  {
   "cell_type": "code",
   "execution_count": null,
   "metadata": {},
   "outputs": [],
   "source": []
  },
  {
   "cell_type": "code",
   "execution_count": null,
   "metadata": {},
   "outputs": [],
   "source": []
  },
  {
   "cell_type": "markdown",
   "metadata": {},
   "source": [
    "## 6- Os boxplots devem sugerir ccolunas que contêm valores anormalmente altos. Para descartar os outliers, podemos calcular a pontuação Z para cada atributo e remover as instâncias que contêm atributos com pontuação Z anormalmente alta ou baixa (por exemplo, se Z > 3 ou Z <= -3)."
   ]
  },
  {
   "cell_type": "code",
   "execution_count": 55,
   "metadata": {
    "scrolled": true
   },
   "outputs": [
    {
     "data": {
      "text/html": [
       "<div>\n",
       "<style scoped>\n",
       "    .dataframe tbody tr th:only-of-type {\n",
       "        vertical-align: middle;\n",
       "    }\n",
       "\n",
       "    .dataframe tbody tr th {\n",
       "        vertical-align: top;\n",
       "    }\n",
       "\n",
       "    .dataframe thead th {\n",
       "        text-align: right;\n",
       "    }\n",
       "</style>\n",
       "<table border=\"1\" class=\"dataframe\">\n",
       "  <thead>\n",
       "    <tr style=\"text-align: right;\">\n",
       "      <th></th>\n",
       "      <th>GameID</th>\n",
       "      <th>Drive</th>\n",
       "      <th>qtr</th>\n",
       "      <th>TimeUnder</th>\n",
       "      <th>TimeSecs</th>\n",
       "      <th>PlayTimeDiff</th>\n",
       "      <th>yrdln</th>\n",
       "      <th>yrdline100</th>\n",
       "      <th>ydstogo</th>\n",
       "      <th>ydsnet</th>\n",
       "      <th>GoalToGo</th>\n",
       "      <th>FirstDown</th>\n",
       "      <th>PlayAttempted</th>\n",
       "      <th>Yards.Gained</th>\n",
       "      <th>sp</th>\n",
       "      <th>Touchdown</th>\n",
       "      <th>Safety</th>\n",
       "      <th>Onsidekick</th>\n",
       "    </tr>\n",
       "  </thead>\n",
       "  <tbody>\n",
       "    <tr>\n",
       "      <th>0</th>\n",
       "      <td>-3.610700</td>\n",
       "      <td>-0.342195</td>\n",
       "      <td>-0.090538</td>\n",
       "      <td>-0.215820</td>\n",
       "      <td>-1.413405</td>\n",
       "      <td>NaN</td>\n",
       "      <td>-0.712051</td>\n",
       "      <td>-1.065541</td>\n",
       "      <td>-0.228690</td>\n",
       "      <td>-0.610616</td>\n",
       "      <td>-0.023892</td>\n",
       "      <td>-0.030175</td>\n",
       "      <td>-0.048835</td>\n",
       "      <td>-0.142062</td>\n",
       "      <td>-0.024541</td>\n",
       "      <td>-0.023321</td>\n",
       "      <td>-0.022504</td>\n",
       "      <td>-0.022496</td>\n",
       "    </tr>\n",
       "    <tr>\n",
       "      <th>1</th>\n",
       "      <td>0.270051</td>\n",
       "      <td>-0.314303</td>\n",
       "      <td>-0.062181</td>\n",
       "      <td>0.207090</td>\n",
       "      <td>1.819633</td>\n",
       "      <td>NaN</td>\n",
       "      <td>0.402025</td>\n",
       "      <td>0.248349</td>\n",
       "      <td>0.053277</td>\n",
       "      <td>-0.493569</td>\n",
       "      <td>-0.023892</td>\n",
       "      <td>-0.030175</td>\n",
       "      <td>-0.020486</td>\n",
       "      <td>-0.003899</td>\n",
       "      <td>-0.024541</td>\n",
       "      <td>-0.023321</td>\n",
       "      <td>-0.022504</td>\n",
       "      <td>-0.022496</td>\n",
       "    </tr>\n",
       "    <tr>\n",
       "      <th>2</th>\n",
       "      <td>0.270051</td>\n",
       "      <td>-0.314303</td>\n",
       "      <td>-0.062181</td>\n",
       "      <td>0.207090</td>\n",
       "      <td>1.786340</td>\n",
       "      <td>NaN</td>\n",
       "      <td>0.534654</td>\n",
       "      <td>0.135082</td>\n",
       "      <td>-0.087706</td>\n",
       "      <td>-0.563797</td>\n",
       "      <td>-0.023892</td>\n",
       "      <td>-0.030175</td>\n",
       "      <td>-0.020486</td>\n",
       "      <td>-0.224960</td>\n",
       "      <td>-0.024541</td>\n",
       "      <td>-0.023321</td>\n",
       "      <td>-0.022504</td>\n",
       "      <td>-0.022496</td>\n",
       "    </tr>\n",
       "    <tr>\n",
       "      <th>3</th>\n",
       "      <td>0.270051</td>\n",
       "      <td>-0.314303</td>\n",
       "      <td>-0.062181</td>\n",
       "      <td>0.178896</td>\n",
       "      <td>1.749448</td>\n",
       "      <td>NaN</td>\n",
       "      <td>0.455077</td>\n",
       "      <td>0.203042</td>\n",
       "      <td>-0.003116</td>\n",
       "      <td>-0.563797</td>\n",
       "      <td>-0.023892</td>\n",
       "      <td>-0.030175</td>\n",
       "      <td>-0.020486</td>\n",
       "      <td>-0.142062</td>\n",
       "      <td>-0.024541</td>\n",
       "      <td>-0.023321</td>\n",
       "      <td>-0.022504</td>\n",
       "      <td>-0.022496</td>\n",
       "    </tr>\n",
       "    <tr>\n",
       "      <th>4</th>\n",
       "      <td>0.270051</td>\n",
       "      <td>-0.314303</td>\n",
       "      <td>-0.062181</td>\n",
       "      <td>0.178896</td>\n",
       "      <td>1.742249</td>\n",
       "      <td>NaN</td>\n",
       "      <td>0.455077</td>\n",
       "      <td>0.203042</td>\n",
       "      <td>-0.003116</td>\n",
       "      <td>-0.563797</td>\n",
       "      <td>-0.023892</td>\n",
       "      <td>-0.001840</td>\n",
       "      <td>-0.020486</td>\n",
       "      <td>-0.142062</td>\n",
       "      <td>-0.024541</td>\n",
       "      <td>-0.023321</td>\n",
       "      <td>-0.022504</td>\n",
       "      <td>-0.022496</td>\n",
       "    </tr>\n",
       "    <tr>\n",
       "      <th>...</th>\n",
       "      <td>...</td>\n",
       "      <td>...</td>\n",
       "      <td>...</td>\n",
       "      <td>...</td>\n",
       "      <td>...</td>\n",
       "      <td>...</td>\n",
       "      <td>...</td>\n",
       "      <td>...</td>\n",
       "      <td>...</td>\n",
       "      <td>...</td>\n",
       "      <td>...</td>\n",
       "      <td>...</td>\n",
       "      <td>...</td>\n",
       "      <td>...</td>\n",
       "      <td>...</td>\n",
       "      <td>...</td>\n",
       "      <td>...</td>\n",
       "      <td>...</td>\n",
       "    </tr>\n",
       "    <tr>\n",
       "      <th>362442</th>\n",
       "      <td>0.285348</td>\n",
       "      <td>0.215645</td>\n",
       "      <td>0.022889</td>\n",
       "      <td>-0.187626</td>\n",
       "      <td>-1.393609</td>\n",
       "      <td>NaN</td>\n",
       "      <td>0.216346</td>\n",
       "      <td>-0.272677</td>\n",
       "      <td>0.053277</td>\n",
       "      <td>0.208714</td>\n",
       "      <td>-0.023892</td>\n",
       "      <td>-0.030175</td>\n",
       "      <td>-0.020486</td>\n",
       "      <td>0.825076</td>\n",
       "      <td>0.003791</td>\n",
       "      <td>0.005011</td>\n",
       "      <td>-0.022504</td>\n",
       "      <td>-0.022496</td>\n",
       "    </tr>\n",
       "    <tr>\n",
       "      <th>362443</th>\n",
       "      <td>0.285348</td>\n",
       "      <td>0.215645</td>\n",
       "      <td>0.022889</td>\n",
       "      <td>-0.187626</td>\n",
       "      <td>-1.401708</td>\n",
       "      <td>NaN</td>\n",
       "      <td>-0.314167</td>\n",
       "      <td>-0.725742</td>\n",
       "      <td>-0.228690</td>\n",
       "      <td>0.208714</td>\n",
       "      <td>-0.023892</td>\n",
       "      <td>-0.030175</td>\n",
       "      <td>-0.020486</td>\n",
       "      <td>-0.142062</td>\n",
       "      <td>0.003791</td>\n",
       "      <td>-0.023321</td>\n",
       "      <td>-0.022504</td>\n",
       "      <td>-0.022496</td>\n",
       "    </tr>\n",
       "    <tr>\n",
       "      <th>362444</th>\n",
       "      <td>-3.610700</td>\n",
       "      <td>-0.342195</td>\n",
       "      <td>-0.090538</td>\n",
       "      <td>-0.215820</td>\n",
       "      <td>-1.413405</td>\n",
       "      <td>NaN</td>\n",
       "      <td>-0.712051</td>\n",
       "      <td>-1.065541</td>\n",
       "      <td>-0.228690</td>\n",
       "      <td>-0.610616</td>\n",
       "      <td>-0.023892</td>\n",
       "      <td>-0.030175</td>\n",
       "      <td>-0.048835</td>\n",
       "      <td>-0.142062</td>\n",
       "      <td>-0.024541</td>\n",
       "      <td>-0.023321</td>\n",
       "      <td>-0.022504</td>\n",
       "      <td>-0.022496</td>\n",
       "    </tr>\n",
       "    <tr>\n",
       "      <th>362445</th>\n",
       "      <td>0.285348</td>\n",
       "      <td>0.243537</td>\n",
       "      <td>0.022889</td>\n",
       "      <td>-0.187626</td>\n",
       "      <td>-1.402608</td>\n",
       "      <td>NaN</td>\n",
       "      <td>0.508128</td>\n",
       "      <td>-0.023491</td>\n",
       "      <td>0.053277</td>\n",
       "      <td>-0.634026</td>\n",
       "      <td>-0.023892</td>\n",
       "      <td>-0.030175</td>\n",
       "      <td>-0.020486</td>\n",
       "      <td>-0.169695</td>\n",
       "      <td>-0.024541</td>\n",
       "      <td>-0.023321</td>\n",
       "      <td>-0.022504</td>\n",
       "      <td>-0.022496</td>\n",
       "    </tr>\n",
       "    <tr>\n",
       "      <th>362446</th>\n",
       "      <td>0.285348</td>\n",
       "      <td>0.243537</td>\n",
       "      <td>0.022889</td>\n",
       "      <td>-0.215820</td>\n",
       "      <td>-1.413405</td>\n",
       "      <td>NaN</td>\n",
       "      <td>0.508128</td>\n",
       "      <td>-0.023491</td>\n",
       "      <td>-0.228690</td>\n",
       "      <td>-0.634026</td>\n",
       "      <td>-0.023892</td>\n",
       "      <td>-0.030175</td>\n",
       "      <td>-0.020486</td>\n",
       "      <td>-0.142062</td>\n",
       "      <td>-0.024541</td>\n",
       "      <td>-0.023321</td>\n",
       "      <td>-0.022504</td>\n",
       "      <td>-0.022496</td>\n",
       "    </tr>\n",
       "  </tbody>\n",
       "</table>\n",
       "<p>361884 rows × 18 columns</p>\n",
       "</div>"
      ],
      "text/plain": [
       "          GameID     Drive       qtr  TimeUnder  TimeSecs  PlayTimeDiff  \\\n",
       "0      -3.610700 -0.342195 -0.090538  -0.215820 -1.413405           NaN   \n",
       "1       0.270051 -0.314303 -0.062181   0.207090  1.819633           NaN   \n",
       "2       0.270051 -0.314303 -0.062181   0.207090  1.786340           NaN   \n",
       "3       0.270051 -0.314303 -0.062181   0.178896  1.749448           NaN   \n",
       "4       0.270051 -0.314303 -0.062181   0.178896  1.742249           NaN   \n",
       "...          ...       ...       ...        ...       ...           ...   \n",
       "362442  0.285348  0.215645  0.022889  -0.187626 -1.393609           NaN   \n",
       "362443  0.285348  0.215645  0.022889  -0.187626 -1.401708           NaN   \n",
       "362444 -3.610700 -0.342195 -0.090538  -0.215820 -1.413405           NaN   \n",
       "362445  0.285348  0.243537  0.022889  -0.187626 -1.402608           NaN   \n",
       "362446  0.285348  0.243537  0.022889  -0.215820 -1.413405           NaN   \n",
       "\n",
       "           yrdln  yrdline100   ydstogo    ydsnet  GoalToGo  FirstDown  \\\n",
       "0      -0.712051   -1.065541 -0.228690 -0.610616 -0.023892  -0.030175   \n",
       "1       0.402025    0.248349  0.053277 -0.493569 -0.023892  -0.030175   \n",
       "2       0.534654    0.135082 -0.087706 -0.563797 -0.023892  -0.030175   \n",
       "3       0.455077    0.203042 -0.003116 -0.563797 -0.023892  -0.030175   \n",
       "4       0.455077    0.203042 -0.003116 -0.563797 -0.023892  -0.001840   \n",
       "...          ...         ...       ...       ...       ...        ...   \n",
       "362442  0.216346   -0.272677  0.053277  0.208714 -0.023892  -0.030175   \n",
       "362443 -0.314167   -0.725742 -0.228690  0.208714 -0.023892  -0.030175   \n",
       "362444 -0.712051   -1.065541 -0.228690 -0.610616 -0.023892  -0.030175   \n",
       "362445  0.508128   -0.023491  0.053277 -0.634026 -0.023892  -0.030175   \n",
       "362446  0.508128   -0.023491 -0.228690 -0.634026 -0.023892  -0.030175   \n",
       "\n",
       "        PlayAttempted  Yards.Gained        sp  Touchdown    Safety  Onsidekick  \n",
       "0           -0.048835     -0.142062 -0.024541  -0.023321 -0.022504   -0.022496  \n",
       "1           -0.020486     -0.003899 -0.024541  -0.023321 -0.022504   -0.022496  \n",
       "2           -0.020486     -0.224960 -0.024541  -0.023321 -0.022504   -0.022496  \n",
       "3           -0.020486     -0.142062 -0.024541  -0.023321 -0.022504   -0.022496  \n",
       "4           -0.020486     -0.142062 -0.024541  -0.023321 -0.022504   -0.022496  \n",
       "...               ...           ...       ...        ...       ...         ...  \n",
       "362442      -0.020486      0.825076  0.003791   0.005011 -0.022504   -0.022496  \n",
       "362443      -0.020486     -0.142062  0.003791  -0.023321 -0.022504   -0.022496  \n",
       "362444      -0.048835     -0.142062 -0.024541  -0.023321 -0.022504   -0.022496  \n",
       "362445      -0.020486     -0.169695 -0.024541  -0.023321 -0.022504   -0.022496  \n",
       "362446      -0.020486     -0.142062 -0.024541  -0.023321 -0.022504   -0.022496  \n",
       "\n",
       "[361884 rows x 18 columns]"
      ]
     },
     "execution_count": 55,
     "metadata": {},
     "output_type": "execute_result"
    }
   ],
   "source": [
    "df_z_score = df_float_cols.apply(stats.zscore)\n",
    "df_z_score"
   ]
  },
  {
   "cell_type": "markdown",
   "metadata": {},
   "source": [
    "## 8 - Descarte colunas com Z> 3 ou Z <= -3."
   ]
  },
  {
   "cell_type": "code",
   "execution_count": 90,
   "metadata": {},
   "outputs": [],
   "source": [
    "for col in df_z_score.columns:\n",
    "    df_z_score = df_z_score.drop(df_z_score[(df_z_score[col] < 3) & (df_z_score[col] < -3)].index)"
   ]
  },
  {
   "cell_type": "code",
   "execution_count": 91,
   "metadata": {
    "scrolled": false
   },
   "outputs": [
    {
     "data": {
      "text/html": [
       "<div>\n",
       "<style scoped>\n",
       "    .dataframe tbody tr th:only-of-type {\n",
       "        vertical-align: middle;\n",
       "    }\n",
       "\n",
       "    .dataframe tbody tr th {\n",
       "        vertical-align: top;\n",
       "    }\n",
       "\n",
       "    .dataframe thead th {\n",
       "        text-align: right;\n",
       "    }\n",
       "</style>\n",
       "<table border=\"1\" class=\"dataframe\">\n",
       "  <thead>\n",
       "    <tr style=\"text-align: right;\">\n",
       "      <th></th>\n",
       "      <th>GameID</th>\n",
       "      <th>Drive</th>\n",
       "      <th>qtr</th>\n",
       "      <th>TimeUnder</th>\n",
       "      <th>TimeSecs</th>\n",
       "      <th>PlayTimeDiff</th>\n",
       "      <th>yrdln</th>\n",
       "      <th>yrdline100</th>\n",
       "      <th>ydstogo</th>\n",
       "      <th>ydsnet</th>\n",
       "      <th>GoalToGo</th>\n",
       "      <th>FirstDown</th>\n",
       "      <th>PlayAttempted</th>\n",
       "      <th>Yards.Gained</th>\n",
       "      <th>sp</th>\n",
       "      <th>Touchdown</th>\n",
       "      <th>Safety</th>\n",
       "      <th>Onsidekick</th>\n",
       "    </tr>\n",
       "  </thead>\n",
       "  <tbody>\n",
       "    <tr>\n",
       "      <th>1</th>\n",
       "      <td>0.270051</td>\n",
       "      <td>-0.314303</td>\n",
       "      <td>-0.062181</td>\n",
       "      <td>0.207090</td>\n",
       "      <td>1.819633</td>\n",
       "      <td>NaN</td>\n",
       "      <td>0.402025</td>\n",
       "      <td>0.248349</td>\n",
       "      <td>0.053277</td>\n",
       "      <td>-0.493569</td>\n",
       "      <td>-0.023892</td>\n",
       "      <td>-0.030175</td>\n",
       "      <td>-0.020486</td>\n",
       "      <td>-0.003899</td>\n",
       "      <td>-0.024541</td>\n",
       "      <td>-0.023321</td>\n",
       "      <td>-0.022504</td>\n",
       "      <td>-0.022496</td>\n",
       "    </tr>\n",
       "    <tr>\n",
       "      <th>2</th>\n",
       "      <td>0.270051</td>\n",
       "      <td>-0.314303</td>\n",
       "      <td>-0.062181</td>\n",
       "      <td>0.207090</td>\n",
       "      <td>1.786340</td>\n",
       "      <td>NaN</td>\n",
       "      <td>0.534654</td>\n",
       "      <td>0.135082</td>\n",
       "      <td>-0.087706</td>\n",
       "      <td>-0.563797</td>\n",
       "      <td>-0.023892</td>\n",
       "      <td>-0.030175</td>\n",
       "      <td>-0.020486</td>\n",
       "      <td>-0.224960</td>\n",
       "      <td>-0.024541</td>\n",
       "      <td>-0.023321</td>\n",
       "      <td>-0.022504</td>\n",
       "      <td>-0.022496</td>\n",
       "    </tr>\n",
       "    <tr>\n",
       "      <th>3</th>\n",
       "      <td>0.270051</td>\n",
       "      <td>-0.314303</td>\n",
       "      <td>-0.062181</td>\n",
       "      <td>0.178896</td>\n",
       "      <td>1.749448</td>\n",
       "      <td>NaN</td>\n",
       "      <td>0.455077</td>\n",
       "      <td>0.203042</td>\n",
       "      <td>-0.003116</td>\n",
       "      <td>-0.563797</td>\n",
       "      <td>-0.023892</td>\n",
       "      <td>-0.030175</td>\n",
       "      <td>-0.020486</td>\n",
       "      <td>-0.142062</td>\n",
       "      <td>-0.024541</td>\n",
       "      <td>-0.023321</td>\n",
       "      <td>-0.022504</td>\n",
       "      <td>-0.022496</td>\n",
       "    </tr>\n",
       "    <tr>\n",
       "      <th>4</th>\n",
       "      <td>0.270051</td>\n",
       "      <td>-0.314303</td>\n",
       "      <td>-0.062181</td>\n",
       "      <td>0.178896</td>\n",
       "      <td>1.742249</td>\n",
       "      <td>NaN</td>\n",
       "      <td>0.455077</td>\n",
       "      <td>0.203042</td>\n",
       "      <td>-0.003116</td>\n",
       "      <td>-0.563797</td>\n",
       "      <td>-0.023892</td>\n",
       "      <td>-0.001840</td>\n",
       "      <td>-0.020486</td>\n",
       "      <td>-0.142062</td>\n",
       "      <td>-0.024541</td>\n",
       "      <td>-0.023321</td>\n",
       "      <td>-0.022504</td>\n",
       "      <td>-0.022496</td>\n",
       "    </tr>\n",
       "    <tr>\n",
       "      <th>5</th>\n",
       "      <td>0.270051</td>\n",
       "      <td>-0.286411</td>\n",
       "      <td>-0.062181</td>\n",
       "      <td>0.178896</td>\n",
       "      <td>1.732351</td>\n",
       "      <td>NaN</td>\n",
       "      <td>-0.659000</td>\n",
       "      <td>1.154479</td>\n",
       "      <td>0.053277</td>\n",
       "      <td>-0.610616</td>\n",
       "      <td>-0.023892</td>\n",
       "      <td>-0.030175</td>\n",
       "      <td>-0.020486</td>\n",
       "      <td>-0.142062</td>\n",
       "      <td>-0.024541</td>\n",
       "      <td>-0.023321</td>\n",
       "      <td>-0.022504</td>\n",
       "      <td>-0.022496</td>\n",
       "    </tr>\n",
       "    <tr>\n",
       "      <th>...</th>\n",
       "      <td>...</td>\n",
       "      <td>...</td>\n",
       "      <td>...</td>\n",
       "      <td>...</td>\n",
       "      <td>...</td>\n",
       "      <td>...</td>\n",
       "      <td>...</td>\n",
       "      <td>...</td>\n",
       "      <td>...</td>\n",
       "      <td>...</td>\n",
       "      <td>...</td>\n",
       "      <td>...</td>\n",
       "      <td>...</td>\n",
       "      <td>...</td>\n",
       "      <td>...</td>\n",
       "      <td>...</td>\n",
       "      <td>...</td>\n",
       "      <td>...</td>\n",
       "    </tr>\n",
       "    <tr>\n",
       "      <th>362441</th>\n",
       "      <td>0.285348</td>\n",
       "      <td>0.187753</td>\n",
       "      <td>0.022889</td>\n",
       "      <td>-0.187626</td>\n",
       "      <td>-1.388210</td>\n",
       "      <td>NaN</td>\n",
       "      <td>-0.261115</td>\n",
       "      <td>0.814680</td>\n",
       "      <td>0.137868</td>\n",
       "      <td>-0.680844</td>\n",
       "      <td>-0.023892</td>\n",
       "      <td>-0.001840</td>\n",
       "      <td>-0.020486</td>\n",
       "      <td>-0.142062</td>\n",
       "      <td>-0.024541</td>\n",
       "      <td>-0.023321</td>\n",
       "      <td>-0.022504</td>\n",
       "      <td>-0.022496</td>\n",
       "    </tr>\n",
       "    <tr>\n",
       "      <th>362442</th>\n",
       "      <td>0.285348</td>\n",
       "      <td>0.215645</td>\n",
       "      <td>0.022889</td>\n",
       "      <td>-0.187626</td>\n",
       "      <td>-1.393609</td>\n",
       "      <td>NaN</td>\n",
       "      <td>0.216346</td>\n",
       "      <td>-0.272677</td>\n",
       "      <td>0.053277</td>\n",
       "      <td>0.208714</td>\n",
       "      <td>-0.023892</td>\n",
       "      <td>-0.030175</td>\n",
       "      <td>-0.020486</td>\n",
       "      <td>0.825076</td>\n",
       "      <td>0.003791</td>\n",
       "      <td>0.005011</td>\n",
       "      <td>-0.022504</td>\n",
       "      <td>-0.022496</td>\n",
       "    </tr>\n",
       "    <tr>\n",
       "      <th>362443</th>\n",
       "      <td>0.285348</td>\n",
       "      <td>0.215645</td>\n",
       "      <td>0.022889</td>\n",
       "      <td>-0.187626</td>\n",
       "      <td>-1.401708</td>\n",
       "      <td>NaN</td>\n",
       "      <td>-0.314167</td>\n",
       "      <td>-0.725742</td>\n",
       "      <td>-0.228690</td>\n",
       "      <td>0.208714</td>\n",
       "      <td>-0.023892</td>\n",
       "      <td>-0.030175</td>\n",
       "      <td>-0.020486</td>\n",
       "      <td>-0.142062</td>\n",
       "      <td>0.003791</td>\n",
       "      <td>-0.023321</td>\n",
       "      <td>-0.022504</td>\n",
       "      <td>-0.022496</td>\n",
       "    </tr>\n",
       "    <tr>\n",
       "      <th>362445</th>\n",
       "      <td>0.285348</td>\n",
       "      <td>0.243537</td>\n",
       "      <td>0.022889</td>\n",
       "      <td>-0.187626</td>\n",
       "      <td>-1.402608</td>\n",
       "      <td>NaN</td>\n",
       "      <td>0.508128</td>\n",
       "      <td>-0.023491</td>\n",
       "      <td>0.053277</td>\n",
       "      <td>-0.634026</td>\n",
       "      <td>-0.023892</td>\n",
       "      <td>-0.030175</td>\n",
       "      <td>-0.020486</td>\n",
       "      <td>-0.169695</td>\n",
       "      <td>-0.024541</td>\n",
       "      <td>-0.023321</td>\n",
       "      <td>-0.022504</td>\n",
       "      <td>-0.022496</td>\n",
       "    </tr>\n",
       "    <tr>\n",
       "      <th>362446</th>\n",
       "      <td>0.285348</td>\n",
       "      <td>0.243537</td>\n",
       "      <td>0.022889</td>\n",
       "      <td>-0.215820</td>\n",
       "      <td>-1.413405</td>\n",
       "      <td>NaN</td>\n",
       "      <td>0.508128</td>\n",
       "      <td>-0.023491</td>\n",
       "      <td>-0.228690</td>\n",
       "      <td>-0.634026</td>\n",
       "      <td>-0.023892</td>\n",
       "      <td>-0.030175</td>\n",
       "      <td>-0.020486</td>\n",
       "      <td>-0.142062</td>\n",
       "      <td>-0.024541</td>\n",
       "      <td>-0.023321</td>\n",
       "      <td>-0.022504</td>\n",
       "      <td>-0.022496</td>\n",
       "    </tr>\n",
       "  </tbody>\n",
       "</table>\n",
       "<p>336104 rows × 18 columns</p>\n",
       "</div>"
      ],
      "text/plain": [
       "          GameID     Drive       qtr  TimeUnder  TimeSecs  PlayTimeDiff  \\\n",
       "1       0.270051 -0.314303 -0.062181   0.207090  1.819633           NaN   \n",
       "2       0.270051 -0.314303 -0.062181   0.207090  1.786340           NaN   \n",
       "3       0.270051 -0.314303 -0.062181   0.178896  1.749448           NaN   \n",
       "4       0.270051 -0.314303 -0.062181   0.178896  1.742249           NaN   \n",
       "5       0.270051 -0.286411 -0.062181   0.178896  1.732351           NaN   \n",
       "...          ...       ...       ...        ...       ...           ...   \n",
       "362441  0.285348  0.187753  0.022889  -0.187626 -1.388210           NaN   \n",
       "362442  0.285348  0.215645  0.022889  -0.187626 -1.393609           NaN   \n",
       "362443  0.285348  0.215645  0.022889  -0.187626 -1.401708           NaN   \n",
       "362445  0.285348  0.243537  0.022889  -0.187626 -1.402608           NaN   \n",
       "362446  0.285348  0.243537  0.022889  -0.215820 -1.413405           NaN   \n",
       "\n",
       "           yrdln  yrdline100   ydstogo    ydsnet  GoalToGo  FirstDown  \\\n",
       "1       0.402025    0.248349  0.053277 -0.493569 -0.023892  -0.030175   \n",
       "2       0.534654    0.135082 -0.087706 -0.563797 -0.023892  -0.030175   \n",
       "3       0.455077    0.203042 -0.003116 -0.563797 -0.023892  -0.030175   \n",
       "4       0.455077    0.203042 -0.003116 -0.563797 -0.023892  -0.001840   \n",
       "5      -0.659000    1.154479  0.053277 -0.610616 -0.023892  -0.030175   \n",
       "...          ...         ...       ...       ...       ...        ...   \n",
       "362441 -0.261115    0.814680  0.137868 -0.680844 -0.023892  -0.001840   \n",
       "362442  0.216346   -0.272677  0.053277  0.208714 -0.023892  -0.030175   \n",
       "362443 -0.314167   -0.725742 -0.228690  0.208714 -0.023892  -0.030175   \n",
       "362445  0.508128   -0.023491  0.053277 -0.634026 -0.023892  -0.030175   \n",
       "362446  0.508128   -0.023491 -0.228690 -0.634026 -0.023892  -0.030175   \n",
       "\n",
       "        PlayAttempted  Yards.Gained        sp  Touchdown    Safety  Onsidekick  \n",
       "1           -0.020486     -0.003899 -0.024541  -0.023321 -0.022504   -0.022496  \n",
       "2           -0.020486     -0.224960 -0.024541  -0.023321 -0.022504   -0.022496  \n",
       "3           -0.020486     -0.142062 -0.024541  -0.023321 -0.022504   -0.022496  \n",
       "4           -0.020486     -0.142062 -0.024541  -0.023321 -0.022504   -0.022496  \n",
       "5           -0.020486     -0.142062 -0.024541  -0.023321 -0.022504   -0.022496  \n",
       "...               ...           ...       ...        ...       ...         ...  \n",
       "362441      -0.020486     -0.142062 -0.024541  -0.023321 -0.022504   -0.022496  \n",
       "362442      -0.020486      0.825076  0.003791   0.005011 -0.022504   -0.022496  \n",
       "362443      -0.020486     -0.142062  0.003791  -0.023321 -0.022504   -0.022496  \n",
       "362445      -0.020486     -0.169695 -0.024541  -0.023321 -0.022504   -0.022496  \n",
       "362446      -0.020486     -0.142062 -0.024541  -0.023321 -0.022504   -0.022496  \n",
       "\n",
       "[336104 rows x 18 columns]"
      ]
     },
     "execution_count": 91,
     "metadata": {},
     "output_type": "execute_result"
    }
   ],
   "source": [
    "df_z_score"
   ]
  },
  {
   "cell_type": "code",
   "execution_count": 93,
   "metadata": {},
   "outputs": [
    {
     "name": "stderr",
     "output_type": "stream",
     "text": [
      "C:\\Users\\gabri\\anaconda3\\lib\\site-packages\\matplotlib\\cbook\\__init__.py:1211: RuntimeWarning: invalid value encountered in less_equal\n",
      "  wiskhi = x[x <= hival]\n",
      "C:\\Users\\gabri\\anaconda3\\lib\\site-packages\\matplotlib\\cbook\\__init__.py:1218: RuntimeWarning: invalid value encountered in greater_equal\n",
      "  wisklo = x[x >= loval]\n",
      "C:\\Users\\gabri\\anaconda3\\lib\\site-packages\\matplotlib\\cbook\\__init__.py:1226: RuntimeWarning: invalid value encountered in less\n",
      "  x[x < stats['whislo']],\n",
      "C:\\Users\\gabri\\anaconda3\\lib\\site-packages\\matplotlib\\cbook\\__init__.py:1227: RuntimeWarning: invalid value encountered in greater\n",
      "  x[x > stats['whishi']],\n"
     ]
    },
    {
     "data": {
      "image/png": "[encoded data removed]",
      "text/plain": [
       "<Figure size 432x288 with 1 Axes>"
      ]
     },
     "metadata": {},
     "output_type": "display_data"
    },
    {
     "data": {
      "image/png": "[encoded data removed]",
      "text/plain": [
       "<Figure size 432x288 with 1 Axes>"
      ]
     },
     "metadata": {},
     "output_type": "display_data"
    },
    {
     "data": {
      "image/png": "[encoded data removed]",
      "text/plain": [
       "<Figure size 432x288 with 1 Axes>"
      ]
     },
     "metadata": {},
     "output_type": "display_data"
    },
    {
     "data": {
      "image/png": "[encoded data removed]",
      "text/plain": [
       "<Figure size 432x288 with 1 Axes>"
      ]
     },
     "metadata": {},
     "output_type": "display_data"
    },
    {
     "data": {
      "image/png": "[encoded data removed]",
      "text/plain": [
       "<Figure size 432x288 with 1 Axes>"
      ]
     },
     "metadata": {},
     "output_type": "display_data"
    },
    {
     "data": {
      "image/png": "[encoded data removed]",
      "text/plain": [
       "<Figure size 432x288 with 1 Axes>"
      ]
     },
     "metadata": {},
     "output_type": "display_data"
    },
    {
     "data": {
      "image/png": "[encoded data removed]",
      "text/plain": [
       "<Figure size 432x288 with 1 Axes>"
      ]
     },
     "metadata": {},
     "output_type": "display_data"
    },
    {
     "data": {
      "image/png": "[encoded data removed]",
      "text/plain": [
       "<Figure size 432x288 with 1 Axes>"
      ]
     },
     "metadata": {},
     "output_type": "display_data"
    },
    {
     "data": {
      "image/png": "[encoded data removed]",
      "text/plain": [
       "<Figure size 432x288 with 1 Axes>"
      ]
     },
     "metadata": {},
     "output_type": "display_data"
    },
    {
     "data": {
      "image/png": "[encoded data removed]",
      "text/plain": [
       "<Figure size 432x288 with 1 Axes>"
      ]
     },
     "metadata": {},
     "output_type": "display_data"
    },
    {
     "data": {
      "image/png": "[encoded data removed]",
      "text/plain": [
       "<Figure size 432x288 with 1 Axes>"
      ]
     },
     "metadata": {},
     "output_type": "display_data"
    },
    {
     "data": {
      "image/png": "[encoded data removed]",
      "text/plain": [
       "<Figure size 432x288 with 1 Axes>"
      ]
     },
     "metadata": {},
     "output_type": "display_data"
    },
    {
     "data": {
      "image/png": "[encoded data removed]",
      "text/plain": [
       "<Figure size 432x288 with 1 Axes>"
      ]
     },
     "metadata": {},
     "output_type": "display_data"
    },
    {
     "data": {
      "image/png": "[encoded data removed]",
      "text/plain": [
       "<Figure size 432x288 with 1 Axes>"
      ]
     },
     "metadata": {},
     "output_type": "display_data"
    },
    {
     "data": {
      "image/png": "[encoded data removed]",
      "text/plain": [
       "<Figure size 432x288 with 1 Axes>"
      ]
     },
     "metadata": {},
     "output_type": "display_data"
    },
    {
     "data": {
      "image/png": "[encoded data removed]",
      "text/plain": [
       "<Figure size 432x288 with 1 Axes>"
      ]
     },
     "metadata": {},
     "output_type": "display_data"
    },
    {
     "data": {
      "image/png": "[encoded data removed]",
      "text/plain": [
       "<Figure size 432x288 with 1 Axes>"
      ]
     },
     "metadata": {},
     "output_type": "display_data"
    },
    {
     "data": {
      "image/png": "[encoded data removed]",
      "text/plain": [
       "<Figure size 432x288 with 1 Axes>"
      ]
     },
     "metadata": {},
     "output_type": "display_data"
    }
   ],
   "source": [
    "for cols in df_z_score.columns:\n",
    "    data = df_z_score[cols]\n",
    "    fig1, ax1 = plt.subplots()\n",
    "    ax1.set_title(cols)\n",
    "    ax1.boxplot(data)"
   ]
  },
  {
   "cell_type": "markdown",
   "metadata": {},
   "source": [
    "# Parte 2"
   ]
  },
  {
   "cell_type": "code",
   "execution_count": 58,
   "metadata": {},
   "outputs": [],
   "source": [
    "data = pd.read_csv('DTW_prec.csv')"
   ]
  },
  {
   "cell_type": "code",
   "execution_count": 59,
   "metadata": {},
   "outputs": [
    {
     "name": "stdout",
     "output_type": "stream",
     "text": [
      "<class 'pandas.core.frame.DataFrame'>\n",
      "RangeIndex: 6191 entries, 0 to 6190\n",
      "Data columns (total 2 columns):\n",
      " #   Column  Non-Null Count  Dtype  \n",
      "---  ------  --------------  -----  \n",
      " 0   DATE    6191 non-null   object \n",
      " 1   PRCP    6191 non-null   float64\n",
      "dtypes: float64(1), object(1)\n",
      "memory usage: 96.9+ KB\n"
     ]
    }
   ],
   "source": [
    "data.info()"
   ]
  },
  {
   "cell_type": "code",
   "execution_count": 60,
   "metadata": {},
   "outputs": [
    {
     "data": {
      "text/html": [
       "<div>\n",
       "<style scoped>\n",
       "    .dataframe tbody tr th:only-of-type {\n",
       "        vertical-align: middle;\n",
       "    }\n",
       "\n",
       "    .dataframe tbody tr th {\n",
       "        vertical-align: top;\n",
       "    }\n",
       "\n",
       "    .dataframe thead th {\n",
       "        text-align: right;\n",
       "    }\n",
       "</style>\n",
       "<table border=\"1\" class=\"dataframe\">\n",
       "  <thead>\n",
       "    <tr style=\"text-align: right;\">\n",
       "      <th></th>\n",
       "      <th>PRCP</th>\n",
       "    </tr>\n",
       "  </thead>\n",
       "  <tbody>\n",
       "    <tr>\n",
       "      <th>count</th>\n",
       "      <td>6191.000000</td>\n",
       "    </tr>\n",
       "    <tr>\n",
       "      <th>mean</th>\n",
       "      <td>0.081197</td>\n",
       "    </tr>\n",
       "    <tr>\n",
       "      <th>std</th>\n",
       "      <td>0.230326</td>\n",
       "    </tr>\n",
       "    <tr>\n",
       "      <th>min</th>\n",
       "      <td>0.000000</td>\n",
       "    </tr>\n",
       "    <tr>\n",
       "      <th>25%</th>\n",
       "      <td>0.000000</td>\n",
       "    </tr>\n",
       "    <tr>\n",
       "      <th>50%</th>\n",
       "      <td>0.000000</td>\n",
       "    </tr>\n",
       "    <tr>\n",
       "      <th>75%</th>\n",
       "      <td>0.030000</td>\n",
       "    </tr>\n",
       "    <tr>\n",
       "      <th>max</th>\n",
       "      <td>4.380000</td>\n",
       "    </tr>\n",
       "  </tbody>\n",
       "</table>\n",
       "</div>"
      ],
      "text/plain": [
       "              PRCP\n",
       "count  6191.000000\n",
       "mean      0.081197\n",
       "std       0.230326\n",
       "min       0.000000\n",
       "25%       0.000000\n",
       "50%       0.000000\n",
       "75%       0.030000\n",
       "max       4.380000"
      ]
     },
     "execution_count": 60,
     "metadata": {},
     "output_type": "execute_result"
    }
   ],
   "source": [
    "data.describe()"
   ]
  },
  {
   "cell_type": "code",
   "execution_count": 61,
   "metadata": {},
   "outputs": [
    {
     "data": {
      "text/html": [
       "<div>\n",
       "<style scoped>\n",
       "    .dataframe tbody tr th:only-of-type {\n",
       "        vertical-align: middle;\n",
       "    }\n",
       "\n",
       "    .dataframe tbody tr th {\n",
       "        vertical-align: top;\n",
       "    }\n",
       "\n",
       "    .dataframe thead th {\n",
       "        text-align: right;\n",
       "    }\n",
       "</style>\n",
       "<table border=\"1\" class=\"dataframe\">\n",
       "  <thead>\n",
       "    <tr style=\"text-align: right;\">\n",
       "      <th></th>\n",
       "      <th>DATE</th>\n",
       "      <th>PRCP</th>\n",
       "    </tr>\n",
       "  </thead>\n",
       "  <tbody>\n",
       "    <tr>\n",
       "      <th>0</th>\n",
       "      <td>1/1/2001</td>\n",
       "      <td>0.0</td>\n",
       "    </tr>\n",
       "    <tr>\n",
       "      <th>1</th>\n",
       "      <td>1/2/2001</td>\n",
       "      <td>0.0</td>\n",
       "    </tr>\n",
       "    <tr>\n",
       "      <th>2</th>\n",
       "      <td>1/3/2001</td>\n",
       "      <td>0.0</td>\n",
       "    </tr>\n",
       "  </tbody>\n",
       "</table>\n",
       "</div>"
      ],
      "text/plain": [
       "       DATE  PRCP\n",
       "0  1/1/2001   0.0\n",
       "1  1/2/2001   0.0\n",
       "2  1/3/2001   0.0"
      ]
     },
     "execution_count": 61,
     "metadata": {},
     "output_type": "execute_result"
    }
   ],
   "source": [
    "data.head(3)"
   ]
  },
  {
   "cell_type": "code",
   "execution_count": 62,
   "metadata": {},
   "outputs": [
    {
     "name": "stdout",
     "output_type": "stream",
     "text": [
      "<class 'pandas.core.frame.DataFrame'>\n",
      "RangeIndex: 6191 entries, 0 to 6190\n",
      "Data columns (total 2 columns):\n",
      " #   Column  Non-Null Count  Dtype  \n",
      "---  ------  --------------  -----  \n",
      " 0   DATE    6191 non-null   object \n",
      " 1   PRCP    6191 non-null   float64\n",
      "dtypes: float64(1), object(1)\n",
      "memory usage: 96.9+ KB\n"
     ]
    }
   ],
   "source": [
    "data.info()"
   ]
  },
  {
   "cell_type": "markdown",
   "metadata": {},
   "source": [
    "## 9 - Desenhe um gráfico de linha das séries temporais diárias."
   ]
  },
  {
   "cell_type": "code",
   "execution_count": 63,
   "metadata": {},
   "outputs": [],
   "source": [
    "data['DATE'] = pd.to_datetime(data['DATE'])"
   ]
  },
  {
   "cell_type": "code",
   "execution_count": 64,
   "metadata": {},
   "outputs": [],
   "source": [
    "data = data.set_index('DATE')"
   ]
  },
  {
   "cell_type": "code",
   "execution_count": 65,
   "metadata": {},
   "outputs": [
    {
     "data": {
      "text/html": [
       "<div>\n",
       "<style scoped>\n",
       "    .dataframe tbody tr th:only-of-type {\n",
       "        vertical-align: middle;\n",
       "    }\n",
       "\n",
       "    .dataframe tbody tr th {\n",
       "        vertical-align: top;\n",
       "    }\n",
       "\n",
       "    .dataframe thead th {\n",
       "        text-align: right;\n",
       "    }\n",
       "</style>\n",
       "<table border=\"1\" class=\"dataframe\">\n",
       "  <thead>\n",
       "    <tr style=\"text-align: right;\">\n",
       "      <th></th>\n",
       "      <th>PRCP</th>\n",
       "    </tr>\n",
       "    <tr>\n",
       "      <th>DATE</th>\n",
       "      <th></th>\n",
       "    </tr>\n",
       "  </thead>\n",
       "  <tbody>\n",
       "    <tr>\n",
       "      <th>2001-01-01</th>\n",
       "      <td>0.0</td>\n",
       "    </tr>\n",
       "    <tr>\n",
       "      <th>2001-01-02</th>\n",
       "      <td>0.0</td>\n",
       "    </tr>\n",
       "    <tr>\n",
       "      <th>2001-01-03</th>\n",
       "      <td>0.0</td>\n",
       "    </tr>\n",
       "  </tbody>\n",
       "</table>\n",
       "</div>"
      ],
      "text/plain": [
       "            PRCP\n",
       "DATE            \n",
       "2001-01-01   0.0\n",
       "2001-01-02   0.0\n",
       "2001-01-03   0.0"
      ]
     },
     "execution_count": 65,
     "metadata": {},
     "output_type": "execute_result"
    }
   ],
   "source": [
    "data.head(3)"
   ]
  },
  {
   "cell_type": "code",
   "execution_count": 66,
   "metadata": {},
   "outputs": [],
   "source": [
    "data['year'] = data.index.year\n",
    "data['month'] = data.index.month"
   ]
  },
  {
   "cell_type": "code",
   "execution_count": 67,
   "metadata": {},
   "outputs": [
    {
     "data": {
      "text/html": [
       "<div>\n",
       "<style scoped>\n",
       "    .dataframe tbody tr th:only-of-type {\n",
       "        vertical-align: middle;\n",
       "    }\n",
       "\n",
       "    .dataframe tbody tr th {\n",
       "        vertical-align: top;\n",
       "    }\n",
       "\n",
       "    .dataframe thead th {\n",
       "        text-align: right;\n",
       "    }\n",
       "</style>\n",
       "<table border=\"1\" class=\"dataframe\">\n",
       "  <thead>\n",
       "    <tr style=\"text-align: right;\">\n",
       "      <th></th>\n",
       "      <th>PRCP</th>\n",
       "      <th>year</th>\n",
       "      <th>month</th>\n",
       "    </tr>\n",
       "    <tr>\n",
       "      <th>DATE</th>\n",
       "      <th></th>\n",
       "      <th></th>\n",
       "      <th></th>\n",
       "    </tr>\n",
       "  </thead>\n",
       "  <tbody>\n",
       "    <tr>\n",
       "      <th>2001-01-01</th>\n",
       "      <td>0.0</td>\n",
       "      <td>2001</td>\n",
       "      <td>1</td>\n",
       "    </tr>\n",
       "    <tr>\n",
       "      <th>2001-01-02</th>\n",
       "      <td>0.0</td>\n",
       "      <td>2001</td>\n",
       "      <td>1</td>\n",
       "    </tr>\n",
       "    <tr>\n",
       "      <th>2001-01-03</th>\n",
       "      <td>0.0</td>\n",
       "      <td>2001</td>\n",
       "      <td>1</td>\n",
       "    </tr>\n",
       "  </tbody>\n",
       "</table>\n",
       "</div>"
      ],
      "text/plain": [
       "            PRCP  year  month\n",
       "DATE                         \n",
       "2001-01-01   0.0  2001      1\n",
       "2001-01-02   0.0  2001      1\n",
       "2001-01-03   0.0  2001      1"
      ]
     },
     "execution_count": 67,
     "metadata": {},
     "output_type": "execute_result"
    }
   ],
   "source": [
    "data.head(3)"
   ]
  },
  {
   "cell_type": "code",
   "execution_count": 76,
   "metadata": {},
   "outputs": [
    {
     "data": {
      "text/plain": [
       "<AxesSubplot:xlabel='DATE', ylabel='PRCP'>"
      ]
     },
     "execution_count": 76,
     "metadata": {},
     "output_type": "execute_result"
    },
    {
     "data": {
      "image/png": "[encoded data removed]",
      "text/plain": [
       "<Figure size 1080x576 with 1 Axes>"
      ]
     },
     "metadata": {},
     "output_type": "display_data"
    }
   ],
   "source": [
    "sns.set_style(\"darkgrid\")\n",
    "plt.figure(figsize=(15,8))\n",
    "sns.lineplot(data = data[\"PRCP\"])"
   ]
  },
  {
   "cell_type": "code",
   "execution_count": null,
   "metadata": {},
   "outputs": [],
   "source": []
  },
  {
   "cell_type": "code",
   "execution_count": null,
   "metadata": {},
   "outputs": [],
   "source": []
  },
  {
   "cell_type": "markdown",
   "metadata": {},
   "source": [
    "## 10 - Observe que a série temporal diária parece ser bastante caótica e varia significativamente de um passo para outro.Crie séries temporais agregadas por mês para obter os valores totais mensais de precipitação. Plot a série temporal resultante, ela deve variar mais suavemente em comparação com a série temporal diária."
   ]
  },
  {
   "cell_type": "code",
   "execution_count": 69,
   "metadata": {},
   "outputs": [
    {
     "data": {
      "text/html": [
       "<div>\n",
       "<style scoped>\n",
       "    .dataframe tbody tr th:only-of-type {\n",
       "        vertical-align: middle;\n",
       "    }\n",
       "\n",
       "    .dataframe tbody tr th {\n",
       "        vertical-align: top;\n",
       "    }\n",
       "\n",
       "    .dataframe thead th {\n",
       "        text-align: right;\n",
       "    }\n",
       "</style>\n",
       "<table border=\"1\" class=\"dataframe\">\n",
       "  <thead>\n",
       "    <tr style=\"text-align: right;\">\n",
       "      <th>month</th>\n",
       "      <th>1</th>\n",
       "      <th>2</th>\n",
       "      <th>3</th>\n",
       "      <th>4</th>\n",
       "      <th>5</th>\n",
       "      <th>6</th>\n",
       "      <th>7</th>\n",
       "      <th>8</th>\n",
       "      <th>9</th>\n",
       "      <th>10</th>\n",
       "      <th>11</th>\n",
       "      <th>12</th>\n",
       "    </tr>\n",
       "    <tr>\n",
       "      <th>year</th>\n",
       "      <th></th>\n",
       "      <th></th>\n",
       "      <th></th>\n",
       "      <th></th>\n",
       "      <th></th>\n",
       "      <th></th>\n",
       "      <th></th>\n",
       "      <th></th>\n",
       "      <th></th>\n",
       "      <th></th>\n",
       "      <th></th>\n",
       "      <th></th>\n",
       "    </tr>\n",
       "  </thead>\n",
       "  <tbody>\n",
       "    <tr>\n",
       "      <th>2001</th>\n",
       "      <td>0.027097</td>\n",
       "      <td>0.091071</td>\n",
       "      <td>0.026774</td>\n",
       "      <td>0.042333</td>\n",
       "      <td>0.101935</td>\n",
       "      <td>0.055000</td>\n",
       "      <td>0.064516</td>\n",
       "      <td>0.075161</td>\n",
       "      <td>0.140000</td>\n",
       "      <td>0.202258</td>\n",
       "      <td>0.112333</td>\n",
       "      <td>0.050645</td>\n",
       "    </tr>\n",
       "    <tr>\n",
       "      <th>2002</th>\n",
       "      <td>0.040000</td>\n",
       "      <td>0.088214</td>\n",
       "      <td>0.048710</td>\n",
       "      <td>0.128000</td>\n",
       "      <td>0.107097</td>\n",
       "      <td>0.083333</td>\n",
       "      <td>0.062903</td>\n",
       "      <td>0.018065</td>\n",
       "      <td>0.046333</td>\n",
       "      <td>0.046129</td>\n",
       "      <td>0.071667</td>\n",
       "      <td>0.042258</td>\n",
       "    </tr>\n",
       "    <tr>\n",
       "      <th>2003</th>\n",
       "      <td>0.009677</td>\n",
       "      <td>0.022500</td>\n",
       "      <td>0.052258</td>\n",
       "      <td>0.063000</td>\n",
       "      <td>0.187742</td>\n",
       "      <td>0.071333</td>\n",
       "      <td>0.025161</td>\n",
       "      <td>0.077097</td>\n",
       "      <td>0.126667</td>\n",
       "      <td>0.070645</td>\n",
       "      <td>0.101000</td>\n",
       "      <td>0.067742</td>\n",
       "    </tr>\n",
       "    <tr>\n",
       "      <th>2004</th>\n",
       "      <td>0.028387</td>\n",
       "      <td>0.020345</td>\n",
       "      <td>0.092903</td>\n",
       "      <td>0.014000</td>\n",
       "      <td>0.225161</td>\n",
       "      <td>0.081667</td>\n",
       "      <td>0.075806</td>\n",
       "      <td>0.145806</td>\n",
       "      <td>0.025000</td>\n",
       "      <td>0.067097</td>\n",
       "      <td>0.094000</td>\n",
       "      <td>0.078387</td>\n",
       "    </tr>\n",
       "    <tr>\n",
       "      <th>2005</th>\n",
       "      <td>0.068387</td>\n",
       "      <td>0.079286</td>\n",
       "      <td>0.018966</td>\n",
       "      <td>0.063103</td>\n",
       "      <td>0.039032</td>\n",
       "      <td>0.060000</td>\n",
       "      <td>0.115161</td>\n",
       "      <td>0.057419</td>\n",
       "      <td>0.098000</td>\n",
       "      <td>0.015161</td>\n",
       "      <td>0.098333</td>\n",
       "      <td>0.052581</td>\n",
       "    </tr>\n",
       "  </tbody>\n",
       "</table>\n",
       "</div>"
      ],
      "text/plain": [
       "month        1         2         3         4         5         6         7   \\\n",
       "year                                                                          \n",
       "2001   0.027097  0.091071  0.026774  0.042333  0.101935  0.055000  0.064516   \n",
       "2002   0.040000  0.088214  0.048710  0.128000  0.107097  0.083333  0.062903   \n",
       "2003   0.009677  0.022500  0.052258  0.063000  0.187742  0.071333  0.025161   \n",
       "2004   0.028387  0.020345  0.092903  0.014000  0.225161  0.081667  0.075806   \n",
       "2005   0.068387  0.079286  0.018966  0.063103  0.039032  0.060000  0.115161   \n",
       "\n",
       "month        8         9         10        11        12  \n",
       "year                                                     \n",
       "2001   0.075161  0.140000  0.202258  0.112333  0.050645  \n",
       "2002   0.018065  0.046333  0.046129  0.071667  0.042258  \n",
       "2003   0.077097  0.126667  0.070645  0.101000  0.067742  \n",
       "2004   0.145806  0.025000  0.067097  0.094000  0.078387  \n",
       "2005   0.057419  0.098000  0.015161  0.098333  0.052581  "
      ]
     },
     "execution_count": 69,
     "metadata": {},
     "output_type": "execute_result"
    }
   ],
   "source": [
    "x = data.groupby([\"year\", \"month\"])['PRCP'].mean()\n",
    "data_wide = x.unstack()\n",
    "data_wide.head()"
   ]
  },
  {
   "cell_type": "code",
   "execution_count": 70,
   "metadata": {},
   "outputs": [
    {
     "data": {
      "text/plain": [
       "DATE\n",
       "2001-01-31    0.027097\n",
       "2001-02-28    0.091071\n",
       "2001-03-31    0.026774\n",
       "2001-04-30    0.042333\n",
       "2001-05-31    0.101935\n",
       "                ...   \n",
       "2017-08-31    0.140667\n",
       "2017-09-30    0.040333\n",
       "2017-10-31    0.063226\n",
       "2017-11-30    0.105172\n",
       "2017-12-31    0.019355\n",
       "Freq: M, Name: PRCP, Length: 204, dtype: float64"
      ]
     },
     "execution_count": 70,
     "metadata": {},
     "output_type": "execute_result"
    }
   ],
   "source": [
    "data_month = data['PRCP'].resample(\"M\").mean()\n",
    "data_month"
   ]
  },
  {
   "cell_type": "code",
   "execution_count": 89,
   "metadata": {},
   "outputs": [
    {
     "data": {
      "text/plain": [
       "<AxesSubplot:xlabel='month', ylabel='PRCP'>"
      ]
     },
     "execution_count": 89,
     "metadata": {},
     "output_type": "execute_result"
    },
    {
     "data": {
      "image/png": "[encoded data removed]",
      "text/plain": [
       "<Figure size 1008x576 with 1 Axes>"
      ]
     },
     "metadata": {},
     "output_type": "display_data"
    }
   ],
   "source": [
    "plt.figure(figsize=(14,8))\n",
    "sns.lineplot(x = 'month', y='PRCP', data = data, )"
   ]
  },
  {
   "cell_type": "code",
   "execution_count": 168,
   "metadata": {},
   "outputs": [
    {
     "data": {
      "text/plain": [
       "<AxesSubplot:xlabel='month', ylabel='PRCP'>"
      ]
     },
     "execution_count": 168,
     "metadata": {},
     "output_type": "execute_result"
    },
    {
     "data": {
      "image/png": "[encoded data removed]",
      "text/plain": [
       "<Figure size 864x432 with 1 Axes>"
      ]
     },
     "metadata": {},
     "output_type": "display_data"
    }
   ],
   "source": [
    "sns.barplot(x = 'month', y='PRCP', data = data)"
   ]
  },
  {
   "cell_type": "code",
   "execution_count": null,
   "metadata": {},
   "outputs": [],
   "source": []
  },
  {
   "cell_type": "code",
   "execution_count": null,
   "metadata": {},
   "outputs": [],
   "source": []
  },
  {
   "cell_type": "markdown",
   "metadata": {},
   "source": [
    "## 11 -Agora agrupe e agregue por ano para obter os valores de precipitação anuais e plot o resultado."
   ]
  },
  {
   "cell_type": "code",
   "execution_count": 167,
   "metadata": {},
   "outputs": [
    {
     "data": {
      "text/plain": [
       "<AxesSubplot:xlabel='year', ylabel='PRCP'>"
      ]
     },
     "execution_count": 167,
     "metadata": {},
     "output_type": "execute_result"
    },
    {
     "data": {
      "image/png": "[encoded data removed]",
      "text/plain": [
       "<Figure size 864x432 with 1 Axes>"
      ]
     },
     "metadata": {},
     "output_type": "display_data"
    }
   ],
   "source": [
    "sns.lineplot(x = 'year', y='PRCP', data = data)"
   ]
  },
  {
   "cell_type": "code",
   "execution_count": 169,
   "metadata": {},
   "outputs": [
    {
     "data": {
      "text/plain": [
       "<AxesSubplot:xlabel='year', ylabel='PRCP'>"
      ]
     },
     "execution_count": 169,
     "metadata": {},
     "output_type": "execute_result"
    },
    {
     "data": {
      "image/png": "[encoded data removed]",
      "text/plain": [
       "<Figure size 864x432 with 1 Axes>"
      ]
     },
     "metadata": {},
     "output_type": "display_data"
    }
   ],
   "source": [
    "sns.barplot(x = 'year', y='PRCP', data = data)"
   ]
  },
  {
   "cell_type": "code",
   "execution_count": null,
   "metadata": {},
   "outputs": [],
   "source": []
  },
  {
   "cell_type": "code",
   "execution_count": null,
   "metadata": {},
   "outputs": [],
   "source": []
  },
  {
   "cell_type": "markdown",
   "metadata": {},
   "source": [
    "# Parte 3"
   ]
  },
  {
   "cell_type": "markdown",
   "metadata": {},
   "source": [
    "## 12 - Selecione uma amostra de tamanho 30 aleatoriamente (sem substituição) dos dados NFL Play by Play."
   ]
  },
  {
   "cell_type": "code",
   "execution_count": 89,
   "metadata": {},
   "outputs": [],
   "source": [
    "df_sample = df.sample(n=30)"
   ]
  },
  {
   "cell_type": "code",
   "execution_count": 92,
   "metadata": {},
   "outputs": [
    {
     "data": {
      "text/html": [
       "<div>\n",
       "<style scoped>\n",
       "    .dataframe tbody tr th:only-of-type {\n",
       "        vertical-align: middle;\n",
       "    }\n",
       "\n",
       "    .dataframe tbody tr th {\n",
       "        vertical-align: top;\n",
       "    }\n",
       "\n",
       "    .dataframe thead th {\n",
       "        text-align: right;\n",
       "    }\n",
       "</style>\n",
       "<table border=\"1\" class=\"dataframe\">\n",
       "  <thead>\n",
       "    <tr style=\"text-align: right;\">\n",
       "      <th></th>\n",
       "      <th>Date</th>\n",
       "      <th>GameID</th>\n",
       "      <th>Drive</th>\n",
       "      <th>qtr</th>\n",
       "      <th>time</th>\n",
       "      <th>TimeUnder</th>\n",
       "      <th>TimeSecs</th>\n",
       "      <th>PlayTimeDiff</th>\n",
       "      <th>SideofField</th>\n",
       "      <th>yrdln</th>\n",
       "      <th>...</th>\n",
       "      <th>posteam</th>\n",
       "      <th>DefensiveTeam</th>\n",
       "      <th>desc</th>\n",
       "      <th>PlayAttempted</th>\n",
       "      <th>Yards.Gained</th>\n",
       "      <th>sp</th>\n",
       "      <th>Touchdown</th>\n",
       "      <th>Safety</th>\n",
       "      <th>Onsidekick</th>\n",
       "      <th>PlayType</th>\n",
       "    </tr>\n",
       "  </thead>\n",
       "  <tbody>\n",
       "    <tr>\n",
       "      <th>57438</th>\n",
       "      <td>0</td>\n",
       "      <td>0.000000e+00</td>\n",
       "      <td>0.0</td>\n",
       "      <td>0.0</td>\n",
       "      <td>0</td>\n",
       "      <td>0.0</td>\n",
       "      <td>0.0</td>\n",
       "      <td>0.0</td>\n",
       "      <td>0</td>\n",
       "      <td>0.0</td>\n",
       "      <td>...</td>\n",
       "      <td>0</td>\n",
       "      <td>0</td>\n",
       "      <td>0</td>\n",
       "      <td>0.0</td>\n",
       "      <td>0.0</td>\n",
       "      <td>0.0</td>\n",
       "      <td>0.0</td>\n",
       "      <td>0.0</td>\n",
       "      <td>0.0</td>\n",
       "      <td>0</td>\n",
       "    </tr>\n",
       "    <tr>\n",
       "      <th>44679</th>\n",
       "      <td>0</td>\n",
       "      <td>0.000000e+00</td>\n",
       "      <td>0.0</td>\n",
       "      <td>0.0</td>\n",
       "      <td>0</td>\n",
       "      <td>0.0</td>\n",
       "      <td>0.0</td>\n",
       "      <td>0.0</td>\n",
       "      <td>0</td>\n",
       "      <td>0.0</td>\n",
       "      <td>...</td>\n",
       "      <td>0</td>\n",
       "      <td>0</td>\n",
       "      <td>0</td>\n",
       "      <td>0.0</td>\n",
       "      <td>0.0</td>\n",
       "      <td>0.0</td>\n",
       "      <td>0.0</td>\n",
       "      <td>0.0</td>\n",
       "      <td>0.0</td>\n",
       "      <td>0</td>\n",
       "    </tr>\n",
       "    <tr>\n",
       "      <th>90671</th>\n",
       "      <td>2011-09-11</td>\n",
       "      <td>2.011091e+09</td>\n",
       "      <td>14.0</td>\n",
       "      <td>3.0</td>\n",
       "      <td>12:40</td>\n",
       "      <td>13.0</td>\n",
       "      <td>1660.0</td>\n",
       "      <td>4.0</td>\n",
       "      <td>HOU</td>\n",
       "      <td>49.0</td>\n",
       "      <td>...</td>\n",
       "      <td>IND</td>\n",
       "      <td>HOU</td>\n",
       "      <td>(12:40) (Shotgun) K.Collins pass short right t...</td>\n",
       "      <td>1.0</td>\n",
       "      <td>10.0</td>\n",
       "      <td>0.0</td>\n",
       "      <td>0.0</td>\n",
       "      <td>0.0</td>\n",
       "      <td>0.0</td>\n",
       "      <td>Pass</td>\n",
       "    </tr>\n",
       "    <tr>\n",
       "      <th>265256</th>\n",
       "      <td>2014-12-20</td>\n",
       "      <td>2.014122e+09</td>\n",
       "      <td>18.0</td>\n",
       "      <td>4.0</td>\n",
       "      <td>07:39</td>\n",
       "      <td>8.0</td>\n",
       "      <td>459.0</td>\n",
       "      <td>11.0</td>\n",
       "      <td>WAS</td>\n",
       "      <td>8.0</td>\n",
       "      <td>...</td>\n",
       "      <td>PHI</td>\n",
       "      <td>WAS</td>\n",
       "      <td>(7:39) (No Huddle, Shotgun) L.McCoy left end t...</td>\n",
       "      <td>1.0</td>\n",
       "      <td>0.0</td>\n",
       "      <td>0.0</td>\n",
       "      <td>0.0</td>\n",
       "      <td>0.0</td>\n",
       "      <td>0.0</td>\n",
       "      <td>Run</td>\n",
       "    </tr>\n",
       "    <tr>\n",
       "      <th>208963</th>\n",
       "      <td>2013-11-24</td>\n",
       "      <td>2.013112e+09</td>\n",
       "      <td>18.0</td>\n",
       "      <td>4.0</td>\n",
       "      <td>15:00</td>\n",
       "      <td>15.0</td>\n",
       "      <td>900.0</td>\n",
       "      <td>7.0</td>\n",
       "      <td>TB</td>\n",
       "      <td>14.0</td>\n",
       "      <td>...</td>\n",
       "      <td>TB</td>\n",
       "      <td>DET</td>\n",
       "      <td>(15:00) B.Rainey right tackle to TB 15 for 1 y...</td>\n",
       "      <td>1.0</td>\n",
       "      <td>1.0</td>\n",
       "      <td>0.0</td>\n",
       "      <td>0.0</td>\n",
       "      <td>0.0</td>\n",
       "      <td>0.0</td>\n",
       "      <td>Run</td>\n",
       "    </tr>\n",
       "    <tr>\n",
       "      <th>315882</th>\n",
       "      <td>2016-01-03</td>\n",
       "      <td>2.016010e+09</td>\n",
       "      <td>14.0</td>\n",
       "      <td>2.0</td>\n",
       "      <td>02:00</td>\n",
       "      <td>2.0</td>\n",
       "      <td>1920.0</td>\n",
       "      <td>0.0</td>\n",
       "      <td>DEN</td>\n",
       "      <td>49.0</td>\n",
       "      <td>...</td>\n",
       "      <td>SD</td>\n",
       "      <td>DEN</td>\n",
       "      <td>(2:00) (Shotgun) P.Rivers pass short left to J...</td>\n",
       "      <td>1.0</td>\n",
       "      <td>3.0</td>\n",
       "      <td>0.0</td>\n",
       "      <td>0.0</td>\n",
       "      <td>0.0</td>\n",
       "      <td>0.0</td>\n",
       "      <td>Pass</td>\n",
       "    </tr>\n",
       "    <tr>\n",
       "      <th>64490</th>\n",
       "      <td>2010-10-31</td>\n",
       "      <td>2.010103e+09</td>\n",
       "      <td>13.0</td>\n",
       "      <td>2.0</td>\n",
       "      <td>02:00</td>\n",
       "      <td>2.0</td>\n",
       "      <td>1920.0</td>\n",
       "      <td>0.0</td>\n",
       "      <td>TB</td>\n",
       "      <td>7.0</td>\n",
       "      <td>...</td>\n",
       "      <td>TB</td>\n",
       "      <td>ARI</td>\n",
       "      <td>(2:00) L.Blount right tackle to TB 14 for 7 ya...</td>\n",
       "      <td>1.0</td>\n",
       "      <td>7.0</td>\n",
       "      <td>0.0</td>\n",
       "      <td>0.0</td>\n",
       "      <td>0.0</td>\n",
       "      <td>0.0</td>\n",
       "      <td>Run</td>\n",
       "    </tr>\n",
       "    <tr>\n",
       "      <th>217785</th>\n",
       "      <td>0</td>\n",
       "      <td>0.000000e+00</td>\n",
       "      <td>0.0</td>\n",
       "      <td>0.0</td>\n",
       "      <td>0</td>\n",
       "      <td>0.0</td>\n",
       "      <td>0.0</td>\n",
       "      <td>0.0</td>\n",
       "      <td>0</td>\n",
       "      <td>0.0</td>\n",
       "      <td>...</td>\n",
       "      <td>0</td>\n",
       "      <td>0</td>\n",
       "      <td>0</td>\n",
       "      <td>0.0</td>\n",
       "      <td>0.0</td>\n",
       "      <td>0.0</td>\n",
       "      <td>0.0</td>\n",
       "      <td>0.0</td>\n",
       "      <td>0.0</td>\n",
       "      <td>0</td>\n",
       "    </tr>\n",
       "    <tr>\n",
       "      <th>118624</th>\n",
       "      <td>0</td>\n",
       "      <td>0.000000e+00</td>\n",
       "      <td>0.0</td>\n",
       "      <td>0.0</td>\n",
       "      <td>0</td>\n",
       "      <td>0.0</td>\n",
       "      <td>0.0</td>\n",
       "      <td>0.0</td>\n",
       "      <td>0</td>\n",
       "      <td>0.0</td>\n",
       "      <td>...</td>\n",
       "      <td>0</td>\n",
       "      <td>0</td>\n",
       "      <td>0</td>\n",
       "      <td>0.0</td>\n",
       "      <td>0.0</td>\n",
       "      <td>0.0</td>\n",
       "      <td>0.0</td>\n",
       "      <td>0.0</td>\n",
       "      <td>0.0</td>\n",
       "      <td>0</td>\n",
       "    </tr>\n",
       "    <tr>\n",
       "      <th>291880</th>\n",
       "      <td>2015-11-01</td>\n",
       "      <td>2.015110e+09</td>\n",
       "      <td>8.0</td>\n",
       "      <td>2.0</td>\n",
       "      <td>03:34</td>\n",
       "      <td>4.0</td>\n",
       "      <td>2014.0</td>\n",
       "      <td>4.0</td>\n",
       "      <td>DEN</td>\n",
       "      <td>3.0</td>\n",
       "      <td>...</td>\n",
       "      <td>GB</td>\n",
       "      <td>DEN</td>\n",
       "      <td>(3:34) (Shotgun) E.Lacy left tackle to DEN 2 f...</td>\n",
       "      <td>1.0</td>\n",
       "      <td>1.0</td>\n",
       "      <td>0.0</td>\n",
       "      <td>0.0</td>\n",
       "      <td>0.0</td>\n",
       "      <td>0.0</td>\n",
       "      <td>Run</td>\n",
       "    </tr>\n",
       "    <tr>\n",
       "      <th>168145</th>\n",
       "      <td>2012-12-02</td>\n",
       "      <td>2.012120e+09</td>\n",
       "      <td>1.0</td>\n",
       "      <td>1.0</td>\n",
       "      <td>13:11</td>\n",
       "      <td>14.0</td>\n",
       "      <td>3491.0</td>\n",
       "      <td>39.0</td>\n",
       "      <td>OAK</td>\n",
       "      <td>47.0</td>\n",
       "      <td>...</td>\n",
       "      <td>OAK</td>\n",
       "      <td>CLE</td>\n",
       "      <td>(13:11) J.Stewart right tackle to OAK 48 for 1...</td>\n",
       "      <td>1.0</td>\n",
       "      <td>1.0</td>\n",
       "      <td>0.0</td>\n",
       "      <td>0.0</td>\n",
       "      <td>0.0</td>\n",
       "      <td>0.0</td>\n",
       "      <td>Run</td>\n",
       "    </tr>\n",
       "    <tr>\n",
       "      <th>328698</th>\n",
       "      <td>2016-10-09</td>\n",
       "      <td>2.016101e+09</td>\n",
       "      <td>9.0</td>\n",
       "      <td>2.0</td>\n",
       "      <td>00:11</td>\n",
       "      <td>1.0</td>\n",
       "      <td>1811.0</td>\n",
       "      <td>0.0</td>\n",
       "      <td>CHI</td>\n",
       "      <td>25.0</td>\n",
       "      <td>...</td>\n",
       "      <td>CHI</td>\n",
       "      <td>IND</td>\n",
       "      <td>(:11) B.Hoyer kneels to CHI 24 for -1 yards.</td>\n",
       "      <td>1.0</td>\n",
       "      <td>-1.0</td>\n",
       "      <td>0.0</td>\n",
       "      <td>0.0</td>\n",
       "      <td>0.0</td>\n",
       "      <td>0.0</td>\n",
       "      <td>QB Kneel</td>\n",
       "    </tr>\n",
       "    <tr>\n",
       "      <th>47626</th>\n",
       "      <td>2010-09-19</td>\n",
       "      <td>2.010092e+09</td>\n",
       "      <td>14.0</td>\n",
       "      <td>2.0</td>\n",
       "      <td>00:00</td>\n",
       "      <td>0.0</td>\n",
       "      <td>1800.0</td>\n",
       "      <td>11.0</td>\n",
       "      <td>BAL</td>\n",
       "      <td>21.0</td>\n",
       "      <td>...</td>\n",
       "      <td>NaN</td>\n",
       "      <td>NaN</td>\n",
       "      <td>END QUARTER 2</td>\n",
       "      <td>1.0</td>\n",
       "      <td>0.0</td>\n",
       "      <td>0.0</td>\n",
       "      <td>0.0</td>\n",
       "      <td>0.0</td>\n",
       "      <td>0.0</td>\n",
       "      <td>Quarter End</td>\n",
       "    </tr>\n",
       "    <tr>\n",
       "      <th>192770</th>\n",
       "      <td>2013-10-06</td>\n",
       "      <td>2.013101e+09</td>\n",
       "      <td>19.0</td>\n",
       "      <td>3.0</td>\n",
       "      <td>11:11</td>\n",
       "      <td>12.0</td>\n",
       "      <td>1571.0</td>\n",
       "      <td>46.0</td>\n",
       "      <td>STL</td>\n",
       "      <td>26.0</td>\n",
       "      <td>...</td>\n",
       "      <td>STL</td>\n",
       "      <td>JAC</td>\n",
       "      <td>(11:11) (Shotgun) S.Bradford pass short middle...</td>\n",
       "      <td>1.0</td>\n",
       "      <td>5.0</td>\n",
       "      <td>0.0</td>\n",
       "      <td>0.0</td>\n",
       "      <td>0.0</td>\n",
       "      <td>0.0</td>\n",
       "      <td>Pass</td>\n",
       "    </tr>\n",
       "    <tr>\n",
       "      <th>355939</th>\n",
       "      <td>2016-12-18</td>\n",
       "      <td>2.016122e+09</td>\n",
       "      <td>13.0</td>\n",
       "      <td>3.0</td>\n",
       "      <td>13:14</td>\n",
       "      <td>14.0</td>\n",
       "      <td>1694.0</td>\n",
       "      <td>33.0</td>\n",
       "      <td>ATL</td>\n",
       "      <td>45.0</td>\n",
       "      <td>...</td>\n",
       "      <td>ATL</td>\n",
       "      <td>SF</td>\n",
       "      <td>(13:14) D.Freeman right tackle to SF 49 for 6 ...</td>\n",
       "      <td>1.0</td>\n",
       "      <td>6.0</td>\n",
       "      <td>0.0</td>\n",
       "      <td>0.0</td>\n",
       "      <td>0.0</td>\n",
       "      <td>0.0</td>\n",
       "      <td>Run</td>\n",
       "    </tr>\n",
       "    <tr>\n",
       "      <th>54309</th>\n",
       "      <td>2010-10-03</td>\n",
       "      <td>2.010100e+09</td>\n",
       "      <td>26.0</td>\n",
       "      <td>4.0</td>\n",
       "      <td>00:12</td>\n",
       "      <td>1.0</td>\n",
       "      <td>12.0</td>\n",
       "      <td>22.0</td>\n",
       "      <td>SEA</td>\n",
       "      <td>44.0</td>\n",
       "      <td>...</td>\n",
       "      <td>SEA</td>\n",
       "      <td>STL</td>\n",
       "      <td>(:12) J.Forsett right tackle to 50 for 6 yards...</td>\n",
       "      <td>1.0</td>\n",
       "      <td>6.0</td>\n",
       "      <td>0.0</td>\n",
       "      <td>0.0</td>\n",
       "      <td>0.0</td>\n",
       "      <td>0.0</td>\n",
       "      <td>Run</td>\n",
       "    </tr>\n",
       "    <tr>\n",
       "      <th>217826</th>\n",
       "      <td>2013-12-15</td>\n",
       "      <td>2.013122e+09</td>\n",
       "      <td>5.0</td>\n",
       "      <td>1.0</td>\n",
       "      <td>08:11</td>\n",
       "      <td>9.0</td>\n",
       "      <td>3191.0</td>\n",
       "      <td>4.0</td>\n",
       "      <td>BUF</td>\n",
       "      <td>14.0</td>\n",
       "      <td>...</td>\n",
       "      <td>JAC</td>\n",
       "      <td>BUF</td>\n",
       "      <td>(8:11) J.Scobee 32 yard field goal is GOOD, Ce...</td>\n",
       "      <td>1.0</td>\n",
       "      <td>0.0</td>\n",
       "      <td>1.0</td>\n",
       "      <td>0.0</td>\n",
       "      <td>0.0</td>\n",
       "      <td>0.0</td>\n",
       "      <td>Field Goal</td>\n",
       "    </tr>\n",
       "    <tr>\n",
       "      <th>270972</th>\n",
       "      <td>2015-09-13</td>\n",
       "      <td>2.015091e+09</td>\n",
       "      <td>6.0</td>\n",
       "      <td>1.0</td>\n",
       "      <td>03:28</td>\n",
       "      <td>4.0</td>\n",
       "      <td>2908.0</td>\n",
       "      <td>34.0</td>\n",
       "      <td>HOU</td>\n",
       "      <td>28.0</td>\n",
       "      <td>...</td>\n",
       "      <td>HOU</td>\n",
       "      <td>KC</td>\n",
       "      <td>(3:28) (Shotgun) B.Hoyer pass short middle to ...</td>\n",
       "      <td>1.0</td>\n",
       "      <td>15.0</td>\n",
       "      <td>0.0</td>\n",
       "      <td>0.0</td>\n",
       "      <td>0.0</td>\n",
       "      <td>0.0</td>\n",
       "      <td>Pass</td>\n",
       "    </tr>\n",
       "    <tr>\n",
       "      <th>246250</th>\n",
       "      <td>2014-10-26</td>\n",
       "      <td>2.014103e+09</td>\n",
       "      <td>11.0</td>\n",
       "      <td>2.0</td>\n",
       "      <td>01:24</td>\n",
       "      <td>2.0</td>\n",
       "      <td>1884.0</td>\n",
       "      <td>11.0</td>\n",
       "      <td>OAK</td>\n",
       "      <td>37.0</td>\n",
       "      <td>...</td>\n",
       "      <td>OAK</td>\n",
       "      <td>CLE</td>\n",
       "      <td>(1:24) (Shotgun) D.Carr pass deep right to A.H...</td>\n",
       "      <td>1.0</td>\n",
       "      <td>31.0</td>\n",
       "      <td>0.0</td>\n",
       "      <td>0.0</td>\n",
       "      <td>0.0</td>\n",
       "      <td>0.0</td>\n",
       "      <td>Pass</td>\n",
       "    </tr>\n",
       "    <tr>\n",
       "      <th>328973</th>\n",
       "      <td>2016-10-09</td>\n",
       "      <td>2.016101e+09</td>\n",
       "      <td>3.0</td>\n",
       "      <td>1.0</td>\n",
       "      <td>07:31</td>\n",
       "      <td>8.0</td>\n",
       "      <td>3151.0</td>\n",
       "      <td>45.0</td>\n",
       "      <td>BAL</td>\n",
       "      <td>44.0</td>\n",
       "      <td>...</td>\n",
       "      <td>BAL</td>\n",
       "      <td>WAS</td>\n",
       "      <td>(7:31) T.West right guard to BAL 46 for 2 yard...</td>\n",
       "      <td>1.0</td>\n",
       "      <td>2.0</td>\n",
       "      <td>0.0</td>\n",
       "      <td>0.0</td>\n",
       "      <td>0.0</td>\n",
       "      <td>0.0</td>\n",
       "      <td>No Play</td>\n",
       "    </tr>\n",
       "    <tr>\n",
       "      <th>342311</th>\n",
       "      <td>2016-11-13</td>\n",
       "      <td>2.016111e+09</td>\n",
       "      <td>24.0</td>\n",
       "      <td>4.0</td>\n",
       "      <td>03:54</td>\n",
       "      <td>4.0</td>\n",
       "      <td>234.0</td>\n",
       "      <td>6.0</td>\n",
       "      <td>GB</td>\n",
       "      <td>23.0</td>\n",
       "      <td>...</td>\n",
       "      <td>GB</td>\n",
       "      <td>TEN</td>\n",
       "      <td>(3:54) (Shotgun) A.Rodgers pass incomplete sho...</td>\n",
       "      <td>1.0</td>\n",
       "      <td>0.0</td>\n",
       "      <td>0.0</td>\n",
       "      <td>0.0</td>\n",
       "      <td>0.0</td>\n",
       "      <td>0.0</td>\n",
       "      <td>Pass</td>\n",
       "    </tr>\n",
       "    <tr>\n",
       "      <th>209639</th>\n",
       "      <td>2013-11-24</td>\n",
       "      <td>2.013112e+09</td>\n",
       "      <td>11.0</td>\n",
       "      <td>2.0</td>\n",
       "      <td>09:46</td>\n",
       "      <td>10.0</td>\n",
       "      <td>2386.0</td>\n",
       "      <td>40.0</td>\n",
       "      <td>MIA</td>\n",
       "      <td>16.0</td>\n",
       "      <td>...</td>\n",
       "      <td>MIA</td>\n",
       "      <td>CAR</td>\n",
       "      <td>(9:46) (Shotgun) R.Tannehill pass short left t...</td>\n",
       "      <td>1.0</td>\n",
       "      <td>18.0</td>\n",
       "      <td>0.0</td>\n",
       "      <td>0.0</td>\n",
       "      <td>0.0</td>\n",
       "      <td>0.0</td>\n",
       "      <td>Pass</td>\n",
       "    </tr>\n",
       "    <tr>\n",
       "      <th>282162</th>\n",
       "      <td>2015-10-11</td>\n",
       "      <td>2.015101e+09</td>\n",
       "      <td>3.0</td>\n",
       "      <td>1.0</td>\n",
       "      <td>08:18</td>\n",
       "      <td>9.0</td>\n",
       "      <td>3198.0</td>\n",
       "      <td>36.0</td>\n",
       "      <td>CHI</td>\n",
       "      <td>8.0</td>\n",
       "      <td>...</td>\n",
       "      <td>CHI</td>\n",
       "      <td>KC</td>\n",
       "      <td>(8:18) (No Huddle, Shotgun) J.Cutler sacked at...</td>\n",
       "      <td>1.0</td>\n",
       "      <td>-8.0</td>\n",
       "      <td>1.0</td>\n",
       "      <td>1.0</td>\n",
       "      <td>0.0</td>\n",
       "      <td>0.0</td>\n",
       "      <td>Sack</td>\n",
       "    </tr>\n",
       "    <tr>\n",
       "      <th>358792</th>\n",
       "      <td>2016-12-24</td>\n",
       "      <td>2.016122e+09</td>\n",
       "      <td>8.0</td>\n",
       "      <td>2.0</td>\n",
       "      <td>10:21</td>\n",
       "      <td>11.0</td>\n",
       "      <td>2421.0</td>\n",
       "      <td>42.0</td>\n",
       "      <td>LA</td>\n",
       "      <td>23.0</td>\n",
       "      <td>...</td>\n",
       "      <td>LA</td>\n",
       "      <td>SF</td>\n",
       "      <td>(10:21) (Shotgun) J.Goff scrambles up the midd...</td>\n",
       "      <td>1.0</td>\n",
       "      <td>5.0</td>\n",
       "      <td>0.0</td>\n",
       "      <td>0.0</td>\n",
       "      <td>0.0</td>\n",
       "      <td>0.0</td>\n",
       "      <td>Run</td>\n",
       "    </tr>\n",
       "    <tr>\n",
       "      <th>17100</th>\n",
       "      <td>2009-10-25</td>\n",
       "      <td>2.009103e+09</td>\n",
       "      <td>18.0</td>\n",
       "      <td>3.0</td>\n",
       "      <td>12:40</td>\n",
       "      <td>13.0</td>\n",
       "      <td>1660.0</td>\n",
       "      <td>6.0</td>\n",
       "      <td>MIA</td>\n",
       "      <td>25.0</td>\n",
       "      <td>...</td>\n",
       "      <td>MIA</td>\n",
       "      <td>NO</td>\n",
       "      <td>(12:40) (Punt formation) B.Fields punts 46 yar...</td>\n",
       "      <td>1.0</td>\n",
       "      <td>6.0</td>\n",
       "      <td>0.0</td>\n",
       "      <td>0.0</td>\n",
       "      <td>0.0</td>\n",
       "      <td>0.0</td>\n",
       "      <td>Punt</td>\n",
       "    </tr>\n",
       "    <tr>\n",
       "      <th>244268</th>\n",
       "      <td>2014-10-26</td>\n",
       "      <td>2.014103e+09</td>\n",
       "      <td>8.0</td>\n",
       "      <td>2.0</td>\n",
       "      <td>02:42</td>\n",
       "      <td>3.0</td>\n",
       "      <td>1962.0</td>\n",
       "      <td>21.0</td>\n",
       "      <td>DET</td>\n",
       "      <td>40.0</td>\n",
       "      <td>...</td>\n",
       "      <td>DET</td>\n",
       "      <td>ATL</td>\n",
       "      <td>(2:42) (Shotgun) M.Stafford pass incomplete sh...</td>\n",
       "      <td>1.0</td>\n",
       "      <td>0.0</td>\n",
       "      <td>0.0</td>\n",
       "      <td>0.0</td>\n",
       "      <td>0.0</td>\n",
       "      <td>0.0</td>\n",
       "      <td>Pass</td>\n",
       "    </tr>\n",
       "    <tr>\n",
       "      <th>318735</th>\n",
       "      <td>2016-09-11</td>\n",
       "      <td>2.016091e+09</td>\n",
       "      <td>6.0</td>\n",
       "      <td>2.0</td>\n",
       "      <td>01:29</td>\n",
       "      <td>2.0</td>\n",
       "      <td>1889.0</td>\n",
       "      <td>6.0</td>\n",
       "      <td>DAL</td>\n",
       "      <td>45.0</td>\n",
       "      <td>...</td>\n",
       "      <td>NYG</td>\n",
       "      <td>DAL</td>\n",
       "      <td>(1:29) (No Huddle, Shotgun) E.Manning pass sho...</td>\n",
       "      <td>1.0</td>\n",
       "      <td>6.0</td>\n",
       "      <td>0.0</td>\n",
       "      <td>0.0</td>\n",
       "      <td>0.0</td>\n",
       "      <td>0.0</td>\n",
       "      <td>Pass</td>\n",
       "    </tr>\n",
       "    <tr>\n",
       "      <th>279835</th>\n",
       "      <td>2015-10-04</td>\n",
       "      <td>2.015100e+09</td>\n",
       "      <td>5.0</td>\n",
       "      <td>1.0</td>\n",
       "      <td>04:44</td>\n",
       "      <td>5.0</td>\n",
       "      <td>2984.0</td>\n",
       "      <td>37.0</td>\n",
       "      <td>NYG</td>\n",
       "      <td>33.0</td>\n",
       "      <td>...</td>\n",
       "      <td>BUF</td>\n",
       "      <td>NYG</td>\n",
       "      <td>(4:44) (Shotgun) T.Taylor pass incomplete deep...</td>\n",
       "      <td>1.0</td>\n",
       "      <td>0.0</td>\n",
       "      <td>0.0</td>\n",
       "      <td>0.0</td>\n",
       "      <td>0.0</td>\n",
       "      <td>0.0</td>\n",
       "      <td>Pass</td>\n",
       "    </tr>\n",
       "    <tr>\n",
       "      <th>268564</th>\n",
       "      <td>2014-12-28</td>\n",
       "      <td>2.014123e+09</td>\n",
       "      <td>11.0</td>\n",
       "      <td>2.0</td>\n",
       "      <td>11:46</td>\n",
       "      <td>12.0</td>\n",
       "      <td>2506.0</td>\n",
       "      <td>11.0</td>\n",
       "      <td>PHI</td>\n",
       "      <td>49.0</td>\n",
       "      <td>...</td>\n",
       "      <td>NYG</td>\n",
       "      <td>PHI</td>\n",
       "      <td>(11:46) E.Manning pass incomplete deep middle ...</td>\n",
       "      <td>1.0</td>\n",
       "      <td>0.0</td>\n",
       "      <td>0.0</td>\n",
       "      <td>0.0</td>\n",
       "      <td>0.0</td>\n",
       "      <td>0.0</td>\n",
       "      <td>Pass</td>\n",
       "    </tr>\n",
       "    <tr>\n",
       "      <th>211333</th>\n",
       "      <td>2013-11-28</td>\n",
       "      <td>2.013113e+09</td>\n",
       "      <td>22.0</td>\n",
       "      <td>4.0</td>\n",
       "      <td>09:30</td>\n",
       "      <td>10.0</td>\n",
       "      <td>570.0</td>\n",
       "      <td>42.0</td>\n",
       "      <td>DET</td>\n",
       "      <td>40.0</td>\n",
       "      <td>...</td>\n",
       "      <td>DET</td>\n",
       "      <td>GB</td>\n",
       "      <td>(9:30) J.Bell left tackle to DET 46 for 6 yard...</td>\n",
       "      <td>1.0</td>\n",
       "      <td>6.0</td>\n",
       "      <td>0.0</td>\n",
       "      <td>0.0</td>\n",
       "      <td>0.0</td>\n",
       "      <td>0.0</td>\n",
       "      <td>Run</td>\n",
       "    </tr>\n",
       "  </tbody>\n",
       "</table>\n",
       "<p>30 rows × 25 columns</p>\n",
       "</div>"
      ],
      "text/plain": [
       "              Date        GameID  Drive  qtr   time  TimeUnder  TimeSecs  \\\n",
       "57438            0  0.000000e+00    0.0  0.0      0        0.0       0.0   \n",
       "44679            0  0.000000e+00    0.0  0.0      0        0.0       0.0   \n",
       "90671   2011-09-11  2.011091e+09   14.0  3.0  12:40       13.0    1660.0   \n",
       "265256  2014-12-20  2.014122e+09   18.0  4.0  07:39        8.0     459.0   \n",
       "208963  2013-11-24  2.013112e+09   18.0  4.0  15:00       15.0     900.0   \n",
       "315882  2016-01-03  2.016010e+09   14.0  2.0  02:00        2.0    1920.0   \n",
       "64490   2010-10-31  2.010103e+09   13.0  2.0  02:00        2.0    1920.0   \n",
       "217785           0  0.000000e+00    0.0  0.0      0        0.0       0.0   \n",
       "118624           0  0.000000e+00    0.0  0.0      0        0.0       0.0   \n",
       "291880  2015-11-01  2.015110e+09    8.0  2.0  03:34        4.0    2014.0   \n",
       "168145  2012-12-02  2.012120e+09    1.0  1.0  13:11       14.0    3491.0   \n",
       "328698  2016-10-09  2.016101e+09    9.0  2.0  00:11        1.0    1811.0   \n",
       "47626   2010-09-19  2.010092e+09   14.0  2.0  00:00        0.0    1800.0   \n",
       "192770  2013-10-06  2.013101e+09   19.0  3.0  11:11       12.0    1571.0   \n",
       "355939  2016-12-18  2.016122e+09   13.0  3.0  13:14       14.0    1694.0   \n",
       "54309   2010-10-03  2.010100e+09   26.0  4.0  00:12        1.0      12.0   \n",
       "217826  2013-12-15  2.013122e+09    5.0  1.0  08:11        9.0    3191.0   \n",
       "270972  2015-09-13  2.015091e+09    6.0  1.0  03:28        4.0    2908.0   \n",
       "246250  2014-10-26  2.014103e+09   11.0  2.0  01:24        2.0    1884.0   \n",
       "328973  2016-10-09  2.016101e+09    3.0  1.0  07:31        8.0    3151.0   \n",
       "342311  2016-11-13  2.016111e+09   24.0  4.0  03:54        4.0     234.0   \n",
       "209639  2013-11-24  2.013112e+09   11.0  2.0  09:46       10.0    2386.0   \n",
       "282162  2015-10-11  2.015101e+09    3.0  1.0  08:18        9.0    3198.0   \n",
       "358792  2016-12-24  2.016122e+09    8.0  2.0  10:21       11.0    2421.0   \n",
       "17100   2009-10-25  2.009103e+09   18.0  3.0  12:40       13.0    1660.0   \n",
       "244268  2014-10-26  2.014103e+09    8.0  2.0  02:42        3.0    1962.0   \n",
       "318735  2016-09-11  2.016091e+09    6.0  2.0  01:29        2.0    1889.0   \n",
       "279835  2015-10-04  2.015100e+09    5.0  1.0  04:44        5.0    2984.0   \n",
       "268564  2014-12-28  2.014123e+09   11.0  2.0  11:46       12.0    2506.0   \n",
       "211333  2013-11-28  2.013113e+09   22.0  4.0  09:30       10.0     570.0   \n",
       "\n",
       "        PlayTimeDiff SideofField  yrdln  ...  posteam  DefensiveTeam  \\\n",
       "57438            0.0           0    0.0  ...        0              0   \n",
       "44679            0.0           0    0.0  ...        0              0   \n",
       "90671            4.0         HOU   49.0  ...      IND            HOU   \n",
       "265256          11.0         WAS    8.0  ...      PHI            WAS   \n",
       "208963           7.0          TB   14.0  ...       TB            DET   \n",
       "315882           0.0         DEN   49.0  ...       SD            DEN   \n",
       "64490            0.0          TB    7.0  ...       TB            ARI   \n",
       "217785           0.0           0    0.0  ...        0              0   \n",
       "118624           0.0           0    0.0  ...        0              0   \n",
       "291880           4.0         DEN    3.0  ...       GB            DEN   \n",
       "168145          39.0         OAK   47.0  ...      OAK            CLE   \n",
       "328698           0.0         CHI   25.0  ...      CHI            IND   \n",
       "47626           11.0         BAL   21.0  ...      NaN            NaN   \n",
       "192770          46.0         STL   26.0  ...      STL            JAC   \n",
       "355939          33.0         ATL   45.0  ...      ATL             SF   \n",
       "54309           22.0         SEA   44.0  ...      SEA            STL   \n",
       "217826           4.0         BUF   14.0  ...      JAC            BUF   \n",
       "270972          34.0         HOU   28.0  ...      HOU             KC   \n",
       "246250          11.0         OAK   37.0  ...      OAK            CLE   \n",
       "328973          45.0         BAL   44.0  ...      BAL            WAS   \n",
       "342311           6.0          GB   23.0  ...       GB            TEN   \n",
       "209639          40.0         MIA   16.0  ...      MIA            CAR   \n",
       "282162          36.0         CHI    8.0  ...      CHI             KC   \n",
       "358792          42.0          LA   23.0  ...       LA             SF   \n",
       "17100            6.0         MIA   25.0  ...      MIA             NO   \n",
       "244268          21.0         DET   40.0  ...      DET            ATL   \n",
       "318735           6.0         DAL   45.0  ...      NYG            DAL   \n",
       "279835          37.0         NYG   33.0  ...      BUF            NYG   \n",
       "268564          11.0         PHI   49.0  ...      NYG            PHI   \n",
       "211333          42.0         DET   40.0  ...      DET             GB   \n",
       "\n",
       "                                                     desc  PlayAttempted  \\\n",
       "57438                                                   0            0.0   \n",
       "44679                                                   0            0.0   \n",
       "90671   (12:40) (Shotgun) K.Collins pass short right t...            1.0   \n",
       "265256  (7:39) (No Huddle, Shotgun) L.McCoy left end t...            1.0   \n",
       "208963  (15:00) B.Rainey right tackle to TB 15 for 1 y...            1.0   \n",
       "315882  (2:00) (Shotgun) P.Rivers pass short left to J...            1.0   \n",
       "64490   (2:00) L.Blount right tackle to TB 14 for 7 ya...            1.0   \n",
       "217785                                                  0            0.0   \n",
       "118624                                                  0            0.0   \n",
       "291880  (3:34) (Shotgun) E.Lacy left tackle to DEN 2 f...            1.0   \n",
       "168145  (13:11) J.Stewart right tackle to OAK 48 for 1...            1.0   \n",
       "328698       (:11) B.Hoyer kneels to CHI 24 for -1 yards.            1.0   \n",
       "47626                                       END QUARTER 2            1.0   \n",
       "192770  (11:11) (Shotgun) S.Bradford pass short middle...            1.0   \n",
       "355939  (13:14) D.Freeman right tackle to SF 49 for 6 ...            1.0   \n",
       "54309   (:12) J.Forsett right tackle to 50 for 6 yards...            1.0   \n",
       "217826  (8:11) J.Scobee 32 yard field goal is GOOD, Ce...            1.0   \n",
       "270972  (3:28) (Shotgun) B.Hoyer pass short middle to ...            1.0   \n",
       "246250  (1:24) (Shotgun) D.Carr pass deep right to A.H...            1.0   \n",
       "328973  (7:31) T.West right guard to BAL 46 for 2 yard...            1.0   \n",
       "342311  (3:54) (Shotgun) A.Rodgers pass incomplete sho...            1.0   \n",
       "209639  (9:46) (Shotgun) R.Tannehill pass short left t...            1.0   \n",
       "282162  (8:18) (No Huddle, Shotgun) J.Cutler sacked at...            1.0   \n",
       "358792  (10:21) (Shotgun) J.Goff scrambles up the midd...            1.0   \n",
       "17100   (12:40) (Punt formation) B.Fields punts 46 yar...            1.0   \n",
       "244268  (2:42) (Shotgun) M.Stafford pass incomplete sh...            1.0   \n",
       "318735  (1:29) (No Huddle, Shotgun) E.Manning pass sho...            1.0   \n",
       "279835  (4:44) (Shotgun) T.Taylor pass incomplete deep...            1.0   \n",
       "268564  (11:46) E.Manning pass incomplete deep middle ...            1.0   \n",
       "211333  (9:30) J.Bell left tackle to DET 46 for 6 yard...            1.0   \n",
       "\n",
       "        Yards.Gained   sp Touchdown Safety  Onsidekick     PlayType  \n",
       "57438            0.0  0.0       0.0    0.0         0.0            0  \n",
       "44679            0.0  0.0       0.0    0.0         0.0            0  \n",
       "90671           10.0  0.0       0.0    0.0         0.0         Pass  \n",
       "265256           0.0  0.0       0.0    0.0         0.0          Run  \n",
       "208963           1.0  0.0       0.0    0.0         0.0          Run  \n",
       "315882           3.0  0.0       0.0    0.0         0.0         Pass  \n",
       "64490            7.0  0.0       0.0    0.0         0.0          Run  \n",
       "217785           0.0  0.0       0.0    0.0         0.0            0  \n",
       "118624           0.0  0.0       0.0    0.0         0.0            0  \n",
       "291880           1.0  0.0       0.0    0.0         0.0          Run  \n",
       "168145           1.0  0.0       0.0    0.0         0.0          Run  \n",
       "328698          -1.0  0.0       0.0    0.0         0.0     QB Kneel  \n",
       "47626            0.0  0.0       0.0    0.0         0.0  Quarter End  \n",
       "192770           5.0  0.0       0.0    0.0         0.0         Pass  \n",
       "355939           6.0  0.0       0.0    0.0         0.0          Run  \n",
       "54309            6.0  0.0       0.0    0.0         0.0          Run  \n",
       "217826           0.0  1.0       0.0    0.0         0.0   Field Goal  \n",
       "270972          15.0  0.0       0.0    0.0         0.0         Pass  \n",
       "246250          31.0  0.0       0.0    0.0         0.0         Pass  \n",
       "328973           2.0  0.0       0.0    0.0         0.0      No Play  \n",
       "342311           0.0  0.0       0.0    0.0         0.0         Pass  \n",
       "209639          18.0  0.0       0.0    0.0         0.0         Pass  \n",
       "282162          -8.0  1.0       1.0    0.0         0.0         Sack  \n",
       "358792           5.0  0.0       0.0    0.0         0.0          Run  \n",
       "17100            6.0  0.0       0.0    0.0         0.0         Punt  \n",
       "244268           0.0  0.0       0.0    0.0         0.0         Pass  \n",
       "318735           6.0  0.0       0.0    0.0         0.0         Pass  \n",
       "279835           0.0  0.0       0.0    0.0         0.0         Pass  \n",
       "268564           0.0  0.0       0.0    0.0         0.0         Pass  \n",
       "211333           6.0  0.0       0.0    0.0         0.0          Run  \n",
       "\n",
       "[30 rows x 25 columns]"
      ]
     },
     "execution_count": 92,
     "metadata": {},
     "output_type": "execute_result"
    }
   ],
   "source": [
    "df_sample"
   ]
  },
  {
   "cell_type": "markdown",
   "metadata": {},
   "source": [
    "## 13 - Selecione aleatoriamente 1% dos dados (sem substituição) e exiba as amostras selecionadas."
   ]
  },
  {
   "cell_type": "code",
   "execution_count": 98,
   "metadata": {},
   "outputs": [],
   "source": [
    "df_sample_1 = df.sample(frac=0.01)"
   ]
  },
  {
   "cell_type": "code",
   "execution_count": 99,
   "metadata": {},
   "outputs": [
    {
     "data": {
      "text/html": [
       "<div>\n",
       "<style scoped>\n",
       "    .dataframe tbody tr th:only-of-type {\n",
       "        vertical-align: middle;\n",
       "    }\n",
       "\n",
       "    .dataframe tbody tr th {\n",
       "        vertical-align: top;\n",
       "    }\n",
       "\n",
       "    .dataframe thead th {\n",
       "        text-align: right;\n",
       "    }\n",
       "</style>\n",
       "<table border=\"1\" class=\"dataframe\">\n",
       "  <thead>\n",
       "    <tr style=\"text-align: right;\">\n",
       "      <th></th>\n",
       "      <th>Date</th>\n",
       "      <th>GameID</th>\n",
       "      <th>Drive</th>\n",
       "      <th>qtr</th>\n",
       "      <th>time</th>\n",
       "      <th>TimeUnder</th>\n",
       "      <th>TimeSecs</th>\n",
       "      <th>PlayTimeDiff</th>\n",
       "      <th>SideofField</th>\n",
       "      <th>yrdln</th>\n",
       "      <th>...</th>\n",
       "      <th>posteam</th>\n",
       "      <th>DefensiveTeam</th>\n",
       "      <th>desc</th>\n",
       "      <th>PlayAttempted</th>\n",
       "      <th>Yards.Gained</th>\n",
       "      <th>sp</th>\n",
       "      <th>Touchdown</th>\n",
       "      <th>Safety</th>\n",
       "      <th>Onsidekick</th>\n",
       "      <th>PlayType</th>\n",
       "    </tr>\n",
       "  </thead>\n",
       "  <tbody>\n",
       "    <tr>\n",
       "      <th>146313</th>\n",
       "      <td>2012-10-07</td>\n",
       "      <td>2.012101e+09</td>\n",
       "      <td>11.0</td>\n",
       "      <td>2.0</td>\n",
       "      <td>01:16</td>\n",
       "      <td>2.0</td>\n",
       "      <td>1876.0</td>\n",
       "      <td>37.0</td>\n",
       "      <td>CLE</td>\n",
       "      <td>7.0</td>\n",
       "      <td>...</td>\n",
       "      <td>NYG</td>\n",
       "      <td>CLE</td>\n",
       "      <td>(1:16) (Shotgun) E.Manning pass short left to ...</td>\n",
       "      <td>1.0</td>\n",
       "      <td>7.0</td>\n",
       "      <td>1.0</td>\n",
       "      <td>1.0</td>\n",
       "      <td>0.0</td>\n",
       "      <td>0.0</td>\n",
       "      <td>Pass</td>\n",
       "    </tr>\n",
       "    <tr>\n",
       "      <th>32108</th>\n",
       "      <td>2009-12-06</td>\n",
       "      <td>2.009121e+09</td>\n",
       "      <td>6.0</td>\n",
       "      <td>1.0</td>\n",
       "      <td>02:08</td>\n",
       "      <td>3.0</td>\n",
       "      <td>2828.0</td>\n",
       "      <td>4.0</td>\n",
       "      <td>CIN</td>\n",
       "      <td>20.0</td>\n",
       "      <td>...</td>\n",
       "      <td>CIN</td>\n",
       "      <td>DET</td>\n",
       "      <td>(2:08) (Shotgun) C.Palmer pass short middle to...</td>\n",
       "      <td>1.0</td>\n",
       "      <td>14.0</td>\n",
       "      <td>0.0</td>\n",
       "      <td>0.0</td>\n",
       "      <td>0.0</td>\n",
       "      <td>0.0</td>\n",
       "      <td>Pass</td>\n",
       "    </tr>\n",
       "    <tr>\n",
       "      <th>65866</th>\n",
       "      <td>2010-11-07</td>\n",
       "      <td>2.010111e+09</td>\n",
       "      <td>7.0</td>\n",
       "      <td>2.0</td>\n",
       "      <td>03:51</td>\n",
       "      <td>4.0</td>\n",
       "      <td>2031.0</td>\n",
       "      <td>40.0</td>\n",
       "      <td>BUF</td>\n",
       "      <td>35.0</td>\n",
       "      <td>...</td>\n",
       "      <td>CHI</td>\n",
       "      <td>BUF</td>\n",
       "      <td>(3:51) (Shotgun) J.Cutler up the middle to BUF...</td>\n",
       "      <td>1.0</td>\n",
       "      <td>14.0</td>\n",
       "      <td>0.0</td>\n",
       "      <td>0.0</td>\n",
       "      <td>0.0</td>\n",
       "      <td>0.0</td>\n",
       "      <td>Run</td>\n",
       "    </tr>\n",
       "    <tr>\n",
       "      <th>37825</th>\n",
       "      <td>2009-12-20</td>\n",
       "      <td>2.009122e+09</td>\n",
       "      <td>23.0</td>\n",
       "      <td>4.0</td>\n",
       "      <td>02:31</td>\n",
       "      <td>3.0</td>\n",
       "      <td>151.0</td>\n",
       "      <td>7.0</td>\n",
       "      <td>DEN</td>\n",
       "      <td>43.0</td>\n",
       "      <td>...</td>\n",
       "      <td>OAK</td>\n",
       "      <td>DEN</td>\n",
       "      <td>(2:31) (Shotgun) J.Russell pass incomplete sho...</td>\n",
       "      <td>1.0</td>\n",
       "      <td>0.0</td>\n",
       "      <td>0.0</td>\n",
       "      <td>0.0</td>\n",
       "      <td>0.0</td>\n",
       "      <td>0.0</td>\n",
       "      <td>Pass</td>\n",
       "    </tr>\n",
       "    <tr>\n",
       "      <th>249148</th>\n",
       "      <td>2014-11-06</td>\n",
       "      <td>2.014111e+09</td>\n",
       "      <td>13.0</td>\n",
       "      <td>2.0</td>\n",
       "      <td>01:31</td>\n",
       "      <td>2.0</td>\n",
       "      <td>1891.0</td>\n",
       "      <td>4.0</td>\n",
       "      <td>CLE</td>\n",
       "      <td>44.0</td>\n",
       "      <td>...</td>\n",
       "      <td>CLE</td>\n",
       "      <td>CIN</td>\n",
       "      <td>(1:31) B.Hoyer scrambles right end ran ob at C...</td>\n",
       "      <td>1.0</td>\n",
       "      <td>3.0</td>\n",
       "      <td>0.0</td>\n",
       "      <td>0.0</td>\n",
       "      <td>0.0</td>\n",
       "      <td>0.0</td>\n",
       "      <td>Run</td>\n",
       "    </tr>\n",
       "    <tr>\n",
       "      <th>...</th>\n",
       "      <td>...</td>\n",
       "      <td>...</td>\n",
       "      <td>...</td>\n",
       "      <td>...</td>\n",
       "      <td>...</td>\n",
       "      <td>...</td>\n",
       "      <td>...</td>\n",
       "      <td>...</td>\n",
       "      <td>...</td>\n",
       "      <td>...</td>\n",
       "      <td>...</td>\n",
       "      <td>...</td>\n",
       "      <td>...</td>\n",
       "      <td>...</td>\n",
       "      <td>...</td>\n",
       "      <td>...</td>\n",
       "      <td>...</td>\n",
       "      <td>...</td>\n",
       "      <td>...</td>\n",
       "      <td>...</td>\n",
       "      <td>...</td>\n",
       "    </tr>\n",
       "    <tr>\n",
       "      <th>38016</th>\n",
       "      <td>2009-12-20</td>\n",
       "      <td>2.009122e+09</td>\n",
       "      <td>23.0</td>\n",
       "      <td>4.0</td>\n",
       "      <td>00:36</td>\n",
       "      <td>1.0</td>\n",
       "      <td>36.0</td>\n",
       "      <td>18.0</td>\n",
       "      <td>SD</td>\n",
       "      <td>31.0</td>\n",
       "      <td>...</td>\n",
       "      <td>SD</td>\n",
       "      <td>CIN</td>\n",
       "      <td>(:36) P.Rivers pass to V.Jackson to CIN 49 for...</td>\n",
       "      <td>1.0</td>\n",
       "      <td>20.0</td>\n",
       "      <td>0.0</td>\n",
       "      <td>0.0</td>\n",
       "      <td>0.0</td>\n",
       "      <td>0.0</td>\n",
       "      <td>Pass</td>\n",
       "    </tr>\n",
       "    <tr>\n",
       "      <th>327397</th>\n",
       "      <td>2016-10-02</td>\n",
       "      <td>2.016100e+09</td>\n",
       "      <td>9.0</td>\n",
       "      <td>2.0</td>\n",
       "      <td>03:59</td>\n",
       "      <td>4.0</td>\n",
       "      <td>2039.0</td>\n",
       "      <td>27.0</td>\n",
       "      <td>NO</td>\n",
       "      <td>11.0</td>\n",
       "      <td>...</td>\n",
       "      <td>NO</td>\n",
       "      <td>SD</td>\n",
       "      <td>(3:59) (Shotgun) M.Ingram up the middle to NO ...</td>\n",
       "      <td>1.0</td>\n",
       "      <td>1.0</td>\n",
       "      <td>0.0</td>\n",
       "      <td>0.0</td>\n",
       "      <td>0.0</td>\n",
       "      <td>0.0</td>\n",
       "      <td>Run</td>\n",
       "    </tr>\n",
       "    <tr>\n",
       "      <th>335567</th>\n",
       "      <td>2016-10-23</td>\n",
       "      <td>2.016102e+09</td>\n",
       "      <td>5.0</td>\n",
       "      <td>1.0</td>\n",
       "      <td>04:30</td>\n",
       "      <td>5.0</td>\n",
       "      <td>2970.0</td>\n",
       "      <td>45.0</td>\n",
       "      <td>ARI</td>\n",
       "      <td>37.0</td>\n",
       "      <td>...</td>\n",
       "      <td>ARI</td>\n",
       "      <td>SEA</td>\n",
       "      <td>(4:30) C.Palmer pass short middle to M.Floyd t...</td>\n",
       "      <td>1.0</td>\n",
       "      <td>13.0</td>\n",
       "      <td>0.0</td>\n",
       "      <td>0.0</td>\n",
       "      <td>0.0</td>\n",
       "      <td>0.0</td>\n",
       "      <td>Pass</td>\n",
       "    </tr>\n",
       "    <tr>\n",
       "      <th>100632</th>\n",
       "      <td>2011-10-09</td>\n",
       "      <td>2.011101e+09</td>\n",
       "      <td>1.0</td>\n",
       "      <td>1.0</td>\n",
       "      <td>09:47</td>\n",
       "      <td>10.0</td>\n",
       "      <td>3287.0</td>\n",
       "      <td>5.0</td>\n",
       "      <td>PIT</td>\n",
       "      <td>7.0</td>\n",
       "      <td>...</td>\n",
       "      <td>TEN</td>\n",
       "      <td>PIT</td>\n",
       "      <td>(9:47) M.Hasselbeck pass incomplete short righ...</td>\n",
       "      <td>1.0</td>\n",
       "      <td>0.0</td>\n",
       "      <td>0.0</td>\n",
       "      <td>0.0</td>\n",
       "      <td>0.0</td>\n",
       "      <td>0.0</td>\n",
       "      <td>Pass</td>\n",
       "    </tr>\n",
       "    <tr>\n",
       "      <th>36446</th>\n",
       "      <td>2009-12-19</td>\n",
       "      <td>2.009122e+09</td>\n",
       "      <td>4.0</td>\n",
       "      <td>1.0</td>\n",
       "      <td>05:19</td>\n",
       "      <td>6.0</td>\n",
       "      <td>3019.0</td>\n",
       "      <td>79.0</td>\n",
       "      <td>NO</td>\n",
       "      <td>3.0</td>\n",
       "      <td>...</td>\n",
       "      <td>DAL</td>\n",
       "      <td>NO</td>\n",
       "      <td>(5:19) M.Barber left guard for 3 yards, TOUCHD...</td>\n",
       "      <td>1.0</td>\n",
       "      <td>3.0</td>\n",
       "      <td>1.0</td>\n",
       "      <td>1.0</td>\n",
       "      <td>0.0</td>\n",
       "      <td>0.0</td>\n",
       "      <td>Run</td>\n",
       "    </tr>\n",
       "  </tbody>\n",
       "</table>\n",
       "<p>3619 rows × 25 columns</p>\n",
       "</div>"
      ],
      "text/plain": [
       "              Date        GameID  Drive  qtr   time  TimeUnder  TimeSecs  \\\n",
       "146313  2012-10-07  2.012101e+09   11.0  2.0  01:16        2.0    1876.0   \n",
       "32108   2009-12-06  2.009121e+09    6.0  1.0  02:08        3.0    2828.0   \n",
       "65866   2010-11-07  2.010111e+09    7.0  2.0  03:51        4.0    2031.0   \n",
       "37825   2009-12-20  2.009122e+09   23.0  4.0  02:31        3.0     151.0   \n",
       "249148  2014-11-06  2.014111e+09   13.0  2.0  01:31        2.0    1891.0   \n",
       "...            ...           ...    ...  ...    ...        ...       ...   \n",
       "38016   2009-12-20  2.009122e+09   23.0  4.0  00:36        1.0      36.0   \n",
       "327397  2016-10-02  2.016100e+09    9.0  2.0  03:59        4.0    2039.0   \n",
       "335567  2016-10-23  2.016102e+09    5.0  1.0  04:30        5.0    2970.0   \n",
       "100632  2011-10-09  2.011101e+09    1.0  1.0  09:47       10.0    3287.0   \n",
       "36446   2009-12-19  2.009122e+09    4.0  1.0  05:19        6.0    3019.0   \n",
       "\n",
       "        PlayTimeDiff SideofField  yrdln  ...  posteam  DefensiveTeam  \\\n",
       "146313          37.0         CLE    7.0  ...      NYG            CLE   \n",
       "32108            4.0         CIN   20.0  ...      CIN            DET   \n",
       "65866           40.0         BUF   35.0  ...      CHI            BUF   \n",
       "37825            7.0         DEN   43.0  ...      OAK            DEN   \n",
       "249148           4.0         CLE   44.0  ...      CLE            CIN   \n",
       "...              ...         ...    ...  ...      ...            ...   \n",
       "38016           18.0          SD   31.0  ...       SD            CIN   \n",
       "327397          27.0          NO   11.0  ...       NO             SD   \n",
       "335567          45.0         ARI   37.0  ...      ARI            SEA   \n",
       "100632           5.0         PIT    7.0  ...      TEN            PIT   \n",
       "36446           79.0          NO    3.0  ...      DAL             NO   \n",
       "\n",
       "                                                     desc  PlayAttempted  \\\n",
       "146313  (1:16) (Shotgun) E.Manning pass short left to ...            1.0   \n",
       "32108   (2:08) (Shotgun) C.Palmer pass short middle to...            1.0   \n",
       "65866   (3:51) (Shotgun) J.Cutler up the middle to BUF...            1.0   \n",
       "37825   (2:31) (Shotgun) J.Russell pass incomplete sho...            1.0   \n",
       "249148  (1:31) B.Hoyer scrambles right end ran ob at C...            1.0   \n",
       "...                                                   ...            ...   \n",
       "38016   (:36) P.Rivers pass to V.Jackson to CIN 49 for...            1.0   \n",
       "327397  (3:59) (Shotgun) M.Ingram up the middle to NO ...            1.0   \n",
       "335567  (4:30) C.Palmer pass short middle to M.Floyd t...            1.0   \n",
       "100632  (9:47) M.Hasselbeck pass incomplete short righ...            1.0   \n",
       "36446   (5:19) M.Barber left guard for 3 yards, TOUCHD...            1.0   \n",
       "\n",
       "        Yards.Gained   sp Touchdown Safety  Onsidekick  PlayType  \n",
       "146313           7.0  1.0       1.0    0.0         0.0      Pass  \n",
       "32108           14.0  0.0       0.0    0.0         0.0      Pass  \n",
       "65866           14.0  0.0       0.0    0.0         0.0       Run  \n",
       "37825            0.0  0.0       0.0    0.0         0.0      Pass  \n",
       "249148           3.0  0.0       0.0    0.0         0.0       Run  \n",
       "...              ...  ...       ...    ...         ...       ...  \n",
       "38016           20.0  0.0       0.0    0.0         0.0      Pass  \n",
       "327397           1.0  0.0       0.0    0.0         0.0       Run  \n",
       "335567          13.0  0.0       0.0    0.0         0.0      Pass  \n",
       "100632           0.0  0.0       0.0    0.0         0.0      Pass  \n",
       "36446            3.0  1.0       1.0    0.0         0.0       Run  \n",
       "\n",
       "[3619 rows x 25 columns]"
      ]
     },
     "execution_count": 99,
     "metadata": {},
     "output_type": "execute_result"
    }
   ],
   "source": [
    "df_sample_1"
   ]
  },
  {
   "cell_type": "markdown",
   "metadata": {},
   "source": [
    "## 14 - Realize uma amostragem com substituição para criar uma amostra cujo tamanho é igual a 1% de todos os dados. Você deve poder observar instâncias duplicadas na amostra ao aumentar o tamanho da amostra."
   ]
  },
  {
   "cell_type": "code",
   "execution_count": 106,
   "metadata": {},
   "outputs": [],
   "source": [
    "df_sample_subs = df.sample(frac=0.01,replace= True)"
   ]
  },
  {
   "cell_type": "code",
   "execution_count": 108,
   "metadata": {},
   "outputs": [
    {
     "data": {
      "text/html": [
       "<div>\n",
       "<style scoped>\n",
       "    .dataframe tbody tr th:only-of-type {\n",
       "        vertical-align: middle;\n",
       "    }\n",
       "\n",
       "    .dataframe tbody tr th {\n",
       "        vertical-align: top;\n",
       "    }\n",
       "\n",
       "    .dataframe thead th {\n",
       "        text-align: right;\n",
       "    }\n",
       "</style>\n",
       "<table border=\"1\" class=\"dataframe\">\n",
       "  <thead>\n",
       "    <tr style=\"text-align: right;\">\n",
       "      <th></th>\n",
       "      <th>Date</th>\n",
       "      <th>GameID</th>\n",
       "      <th>Drive</th>\n",
       "      <th>qtr</th>\n",
       "      <th>time</th>\n",
       "      <th>TimeUnder</th>\n",
       "      <th>TimeSecs</th>\n",
       "      <th>PlayTimeDiff</th>\n",
       "      <th>SideofField</th>\n",
       "      <th>yrdln</th>\n",
       "      <th>...</th>\n",
       "      <th>posteam</th>\n",
       "      <th>DefensiveTeam</th>\n",
       "      <th>desc</th>\n",
       "      <th>PlayAttempted</th>\n",
       "      <th>Yards.Gained</th>\n",
       "      <th>sp</th>\n",
       "      <th>Touchdown</th>\n",
       "      <th>Safety</th>\n",
       "      <th>Onsidekick</th>\n",
       "      <th>PlayType</th>\n",
       "    </tr>\n",
       "  </thead>\n",
       "  <tbody>\n",
       "    <tr>\n",
       "      <th>232750</th>\n",
       "      <td>2014-09-21</td>\n",
       "      <td>2.014092e+09</td>\n",
       "      <td>3.0</td>\n",
       "      <td>1.0</td>\n",
       "      <td>01:43</td>\n",
       "      <td>2.0</td>\n",
       "      <td>2803.0</td>\n",
       "      <td>25.0</td>\n",
       "      <td>SF</td>\n",
       "      <td>31.0</td>\n",
       "      <td>...</td>\n",
       "      <td>ARI</td>\n",
       "      <td>SF</td>\n",
       "      <td>(1:43) S.Taylor up the middle to SF 29 for 2 y...</td>\n",
       "      <td>1.0</td>\n",
       "      <td>2.0</td>\n",
       "      <td>0.0</td>\n",
       "      <td>0.0</td>\n",
       "      <td>0.0</td>\n",
       "      <td>0.0</td>\n",
       "      <td>Run</td>\n",
       "    </tr>\n",
       "    <tr>\n",
       "      <th>69940</th>\n",
       "      <td>0</td>\n",
       "      <td>0.000000e+00</td>\n",
       "      <td>0.0</td>\n",
       "      <td>0.0</td>\n",
       "      <td>0</td>\n",
       "      <td>0.0</td>\n",
       "      <td>0.0</td>\n",
       "      <td>0.0</td>\n",
       "      <td>0</td>\n",
       "      <td>0.0</td>\n",
       "      <td>...</td>\n",
       "      <td>0</td>\n",
       "      <td>0</td>\n",
       "      <td>0</td>\n",
       "      <td>0.0</td>\n",
       "      <td>0.0</td>\n",
       "      <td>0.0</td>\n",
       "      <td>0.0</td>\n",
       "      <td>0.0</td>\n",
       "      <td>0.0</td>\n",
       "      <td>0</td>\n",
       "    </tr>\n",
       "    <tr>\n",
       "      <th>320188</th>\n",
       "      <td>2016-09-18</td>\n",
       "      <td>2.016092e+09</td>\n",
       "      <td>14.0</td>\n",
       "      <td>2.0</td>\n",
       "      <td>04:10</td>\n",
       "      <td>5.0</td>\n",
       "      <td>2050.0</td>\n",
       "      <td>0.0</td>\n",
       "      <td>CIN</td>\n",
       "      <td>25.0</td>\n",
       "      <td>...</td>\n",
       "      <td>CIN</td>\n",
       "      <td>PIT</td>\n",
       "      <td>(4:10) (Shotgun) A.Dalton pass short right to ...</td>\n",
       "      <td>1.0</td>\n",
       "      <td>7.0</td>\n",
       "      <td>0.0</td>\n",
       "      <td>0.0</td>\n",
       "      <td>0.0</td>\n",
       "      <td>0.0</td>\n",
       "      <td>Pass</td>\n",
       "    </tr>\n",
       "    <tr>\n",
       "      <th>121525</th>\n",
       "      <td>2011-12-04</td>\n",
       "      <td>2.011120e+09</td>\n",
       "      <td>2.0</td>\n",
       "      <td>1.0</td>\n",
       "      <td>11:28</td>\n",
       "      <td>12.0</td>\n",
       "      <td>3388.0</td>\n",
       "      <td>10.0</td>\n",
       "      <td>CHI</td>\n",
       "      <td>18.0</td>\n",
       "      <td>...</td>\n",
       "      <td>CHI</td>\n",
       "      <td>KC</td>\n",
       "      <td>(11:28) M.Forte left guard to CHI 23 for 5 yar...</td>\n",
       "      <td>1.0</td>\n",
       "      <td>5.0</td>\n",
       "      <td>0.0</td>\n",
       "      <td>0.0</td>\n",
       "      <td>0.0</td>\n",
       "      <td>0.0</td>\n",
       "      <td>Run</td>\n",
       "    </tr>\n",
       "    <tr>\n",
       "      <th>138289</th>\n",
       "      <td>2012-09-16</td>\n",
       "      <td>2.012092e+09</td>\n",
       "      <td>1.0</td>\n",
       "      <td>1.0</td>\n",
       "      <td>11:10</td>\n",
       "      <td>12.0</td>\n",
       "      <td>3370.0</td>\n",
       "      <td>37.0</td>\n",
       "      <td>BAL</td>\n",
       "      <td>19.0</td>\n",
       "      <td>...</td>\n",
       "      <td>PHI</td>\n",
       "      <td>BAL</td>\n",
       "      <td>(11:10) (No Huddle, Shotgun) D.Johnson left en...</td>\n",
       "      <td>1.0</td>\n",
       "      <td>6.0</td>\n",
       "      <td>0.0</td>\n",
       "      <td>0.0</td>\n",
       "      <td>0.0</td>\n",
       "      <td>0.0</td>\n",
       "      <td>Run</td>\n",
       "    </tr>\n",
       "    <tr>\n",
       "      <th>...</th>\n",
       "      <td>...</td>\n",
       "      <td>...</td>\n",
       "      <td>...</td>\n",
       "      <td>...</td>\n",
       "      <td>...</td>\n",
       "      <td>...</td>\n",
       "      <td>...</td>\n",
       "      <td>...</td>\n",
       "      <td>...</td>\n",
       "      <td>...</td>\n",
       "      <td>...</td>\n",
       "      <td>...</td>\n",
       "      <td>...</td>\n",
       "      <td>...</td>\n",
       "      <td>...</td>\n",
       "      <td>...</td>\n",
       "      <td>...</td>\n",
       "      <td>...</td>\n",
       "      <td>...</td>\n",
       "      <td>...</td>\n",
       "      <td>...</td>\n",
       "    </tr>\n",
       "    <tr>\n",
       "      <th>147231</th>\n",
       "      <td>0</td>\n",
       "      <td>0.000000e+00</td>\n",
       "      <td>0.0</td>\n",
       "      <td>0.0</td>\n",
       "      <td>0</td>\n",
       "      <td>0.0</td>\n",
       "      <td>0.0</td>\n",
       "      <td>0.0</td>\n",
       "      <td>0</td>\n",
       "      <td>0.0</td>\n",
       "      <td>...</td>\n",
       "      <td>0</td>\n",
       "      <td>0</td>\n",
       "      <td>0</td>\n",
       "      <td>0.0</td>\n",
       "      <td>0.0</td>\n",
       "      <td>0.0</td>\n",
       "      <td>0.0</td>\n",
       "      <td>0.0</td>\n",
       "      <td>0.0</td>\n",
       "      <td>0</td>\n",
       "    </tr>\n",
       "    <tr>\n",
       "      <th>342267</th>\n",
       "      <td>2016-11-13</td>\n",
       "      <td>2.016111e+09</td>\n",
       "      <td>18.0</td>\n",
       "      <td>3.0</td>\n",
       "      <td>02:42</td>\n",
       "      <td>3.0</td>\n",
       "      <td>1062.0</td>\n",
       "      <td>17.0</td>\n",
       "      <td>TEN</td>\n",
       "      <td>20.0</td>\n",
       "      <td>...</td>\n",
       "      <td>GB</td>\n",
       "      <td>TEN</td>\n",
       "      <td>(2:42) (No Huddle, Shotgun) A.Rodgers pass inc...</td>\n",
       "      <td>1.0</td>\n",
       "      <td>0.0</td>\n",
       "      <td>0.0</td>\n",
       "      <td>0.0</td>\n",
       "      <td>0.0</td>\n",
       "      <td>0.0</td>\n",
       "      <td>No Play</td>\n",
       "    </tr>\n",
       "    <tr>\n",
       "      <th>194510</th>\n",
       "      <td>2013-10-13</td>\n",
       "      <td>2.013101e+09</td>\n",
       "      <td>13.0</td>\n",
       "      <td>3.0</td>\n",
       "      <td>04:29</td>\n",
       "      <td>5.0</td>\n",
       "      <td>1169.0</td>\n",
       "      <td>40.0</td>\n",
       "      <td>STL</td>\n",
       "      <td>30.0</td>\n",
       "      <td>...</td>\n",
       "      <td>HOU</td>\n",
       "      <td>STL</td>\n",
       "      <td>(4:29) A.Foster left tackle to STL 23 for 7 ya...</td>\n",
       "      <td>1.0</td>\n",
       "      <td>7.0</td>\n",
       "      <td>0.0</td>\n",
       "      <td>0.0</td>\n",
       "      <td>0.0</td>\n",
       "      <td>0.0</td>\n",
       "      <td>Run</td>\n",
       "    </tr>\n",
       "    <tr>\n",
       "      <th>322521</th>\n",
       "      <td>2016-09-22</td>\n",
       "      <td>2.016092e+09</td>\n",
       "      <td>7.0</td>\n",
       "      <td>1.0</td>\n",
       "      <td>01:17</td>\n",
       "      <td>2.0</td>\n",
       "      <td>2777.0</td>\n",
       "      <td>37.0</td>\n",
       "      <td>HOU</td>\n",
       "      <td>26.0</td>\n",
       "      <td>...</td>\n",
       "      <td>HOU</td>\n",
       "      <td>NE</td>\n",
       "      <td>(1:17) (Shotgun) B.Osweiler pass incomplete sh...</td>\n",
       "      <td>1.0</td>\n",
       "      <td>0.0</td>\n",
       "      <td>0.0</td>\n",
       "      <td>0.0</td>\n",
       "      <td>0.0</td>\n",
       "      <td>0.0</td>\n",
       "      <td>Pass</td>\n",
       "    </tr>\n",
       "    <tr>\n",
       "      <th>98054</th>\n",
       "      <td>2011-10-02</td>\n",
       "      <td>2.011100e+09</td>\n",
       "      <td>14.0</td>\n",
       "      <td>3.0</td>\n",
       "      <td>13:38</td>\n",
       "      <td>14.0</td>\n",
       "      <td>1718.0</td>\n",
       "      <td>5.0</td>\n",
       "      <td>TEN</td>\n",
       "      <td>28.0</td>\n",
       "      <td>...</td>\n",
       "      <td>TEN</td>\n",
       "      <td>CLE</td>\n",
       "      <td>(13:38) B.Kern punts 50 yards to CLE 22, Cente...</td>\n",
       "      <td>1.0</td>\n",
       "      <td>0.0</td>\n",
       "      <td>0.0</td>\n",
       "      <td>0.0</td>\n",
       "      <td>0.0</td>\n",
       "      <td>0.0</td>\n",
       "      <td>Punt</td>\n",
       "    </tr>\n",
       "  </tbody>\n",
       "</table>\n",
       "<p>3619 rows × 25 columns</p>\n",
       "</div>"
      ],
      "text/plain": [
       "              Date        GameID  Drive  qtr   time  TimeUnder  TimeSecs  \\\n",
       "232750  2014-09-21  2.014092e+09    3.0  1.0  01:43        2.0    2803.0   \n",
       "69940            0  0.000000e+00    0.0  0.0      0        0.0       0.0   \n",
       "320188  2016-09-18  2.016092e+09   14.0  2.0  04:10        5.0    2050.0   \n",
       "121525  2011-12-04  2.011120e+09    2.0  1.0  11:28       12.0    3388.0   \n",
       "138289  2012-09-16  2.012092e+09    1.0  1.0  11:10       12.0    3370.0   \n",
       "...            ...           ...    ...  ...    ...        ...       ...   \n",
       "147231           0  0.000000e+00    0.0  0.0      0        0.0       0.0   \n",
       "342267  2016-11-13  2.016111e+09   18.0  3.0  02:42        3.0    1062.0   \n",
       "194510  2013-10-13  2.013101e+09   13.0  3.0  04:29        5.0    1169.0   \n",
       "322521  2016-09-22  2.016092e+09    7.0  1.0  01:17        2.0    2777.0   \n",
       "98054   2011-10-02  2.011100e+09   14.0  3.0  13:38       14.0    1718.0   \n",
       "\n",
       "        PlayTimeDiff SideofField  yrdln  ...  posteam  DefensiveTeam  \\\n",
       "232750          25.0          SF   31.0  ...      ARI             SF   \n",
       "69940            0.0           0    0.0  ...        0              0   \n",
       "320188           0.0         CIN   25.0  ...      CIN            PIT   \n",
       "121525          10.0         CHI   18.0  ...      CHI             KC   \n",
       "138289          37.0         BAL   19.0  ...      PHI            BAL   \n",
       "...              ...         ...    ...  ...      ...            ...   \n",
       "147231           0.0           0    0.0  ...        0              0   \n",
       "342267          17.0         TEN   20.0  ...       GB            TEN   \n",
       "194510          40.0         STL   30.0  ...      HOU            STL   \n",
       "322521          37.0         HOU   26.0  ...      HOU             NE   \n",
       "98054            5.0         TEN   28.0  ...      TEN            CLE   \n",
       "\n",
       "                                                     desc  PlayAttempted  \\\n",
       "232750  (1:43) S.Taylor up the middle to SF 29 for 2 y...            1.0   \n",
       "69940                                                   0            0.0   \n",
       "320188  (4:10) (Shotgun) A.Dalton pass short right to ...            1.0   \n",
       "121525  (11:28) M.Forte left guard to CHI 23 for 5 yar...            1.0   \n",
       "138289  (11:10) (No Huddle, Shotgun) D.Johnson left en...            1.0   \n",
       "...                                                   ...            ...   \n",
       "147231                                                  0            0.0   \n",
       "342267  (2:42) (No Huddle, Shotgun) A.Rodgers pass inc...            1.0   \n",
       "194510  (4:29) A.Foster left tackle to STL 23 for 7 ya...            1.0   \n",
       "322521  (1:17) (Shotgun) B.Osweiler pass incomplete sh...            1.0   \n",
       "98054   (13:38) B.Kern punts 50 yards to CLE 22, Cente...            1.0   \n",
       "\n",
       "        Yards.Gained   sp Touchdown Safety  Onsidekick  PlayType  \n",
       "232750           2.0  0.0       0.0    0.0         0.0       Run  \n",
       "69940            0.0  0.0       0.0    0.0         0.0         0  \n",
       "320188           7.0  0.0       0.0    0.0         0.0      Pass  \n",
       "121525           5.0  0.0       0.0    0.0         0.0       Run  \n",
       "138289           6.0  0.0       0.0    0.0         0.0       Run  \n",
       "...              ...  ...       ...    ...         ...       ...  \n",
       "147231           0.0  0.0       0.0    0.0         0.0         0  \n",
       "342267           0.0  0.0       0.0    0.0         0.0   No Play  \n",
       "194510           7.0  0.0       0.0    0.0         0.0       Run  \n",
       "322521           0.0  0.0       0.0    0.0         0.0      Pass  \n",
       "98054            0.0  0.0       0.0    0.0         0.0      Punt  \n",
       "\n",
       "[3619 rows x 25 columns]"
      ]
     },
     "execution_count": 108,
     "metadata": {},
     "output_type": "execute_result"
    }
   ],
   "source": [
    "df_sample_subs"
   ]
  },
  {
   "cell_type": "code",
   "execution_count": null,
   "metadata": {},
   "outputs": [],
   "source": []
  },
  {
   "cell_type": "code",
   "execution_count": null,
   "metadata": {},
   "outputs": [],
   "source": []
  },
  {
   "cell_type": "markdown",
   "metadata": {},
   "source": [
    "## 15 - Plot um histograma que mostra a distribuição dos valores do atributo \"TimeSecs\". A função value_counts() também pode ser aplicada para contar a frequência de cada valor de atributo."
   ]
  },
  {
   "cell_type": "code",
   "execution_count": 118,
   "metadata": {},
   "outputs": [
    {
     "data": {
      "text/plain": [
       " 0.0       27416\n",
       " 900.0      3200\n",
       " 2700.0     3016\n",
       " 120.0      2612\n",
       " 1920.0     2453\n",
       "           ...  \n",
       "-801.0         1\n",
       "-727.0         1\n",
       "-675.0         1\n",
       "-255.0         1\n",
       "-268.0         1\n",
       "Name: TimeSecs, Length: 4327, dtype: int64"
      ]
     },
     "execution_count": 118,
     "metadata": {},
     "output_type": "execute_result"
    }
   ],
   "source": [
    "df['TimeSecs'].value_counts()"
   ]
  },
  {
   "cell_type": "code",
   "execution_count": 119,
   "metadata": {},
   "outputs": [
    {
     "data": {
      "text/plain": [
       "<AxesSubplot:>"
      ]
     },
     "execution_count": 119,
     "metadata": {},
     "output_type": "execute_result"
    },
    {
     "data": {
      "image/png": "[encoded data removed]",
      "text/plain": [
       "<Figure size 432x288 with 1 Axes>"
      ]
     },
     "metadata": {
      "needs_background": "light"
     },
     "output_type": "display_data"
    }
   ],
   "source": [
    "df['TimeSecs'].hist()"
   ]
  },
  {
   "cell_type": "markdown",
   "metadata": {},
   "source": [
    "## 16 - Para o método de largura igual, aplique a função cut() para discretizar o atributo em 4 bins de larguras de intervalo semelhantes. A função value_counts() pode ser usada para determinar o número de instâncias em cada bin."
   ]
  },
  {
   "cell_type": "code",
   "execution_count": 117,
   "metadata": {},
   "outputs": [
    {
     "data": {
      "text/plain": [
       "(1350.0, 2475.0]    109559\n",
       "(225.0, 1350.0]      97157\n",
       "(2475.0, 3600.0]     92793\n",
       "(-904.5, 225.0]      62375\n",
       "Name: TimeSecs, dtype: int64"
      ]
     },
     "execution_count": 117,
     "metadata": {},
     "output_type": "execute_result"
    }
   ],
   "source": [
    "pd.cut(df['TimeSecs'], bins=4).value_counts()"
   ]
  },
  {
   "cell_type": "code",
   "execution_count": 120,
   "metadata": {},
   "outputs": [
    {
     "data": {
      "text/plain": [
       "0          (-904.5, 225.0]\n",
       "1         (2475.0, 3600.0]\n",
       "2         (2475.0, 3600.0]\n",
       "3         (2475.0, 3600.0]\n",
       "4         (2475.0, 3600.0]\n",
       "                ...       \n",
       "362442     (-904.5, 225.0]\n",
       "362443     (-904.5, 225.0]\n",
       "362444     (-904.5, 225.0]\n",
       "362445     (-904.5, 225.0]\n",
       "362446     (-904.5, 225.0]\n",
       "Name: TimeSecs, Length: 361884, dtype: category\n",
       "Categories (4, interval[float64]): [(-904.5, 225.0] < (225.0, 1350.0] < (1350.0, 2475.0] < (2475.0, 3600.0]]"
      ]
     },
     "execution_count": 120,
     "metadata": {},
     "output_type": "execute_result"
    }
   ],
   "source": [
    "pd.cut(df['TimeSecs'], bins=4)"
   ]
  },
  {
   "cell_type": "markdown",
   "metadata": {},
   "source": [
    "## 17 -Para o método de frequência igual, aplique a função qcut() ppara particionar os valores em 4 compartimentos, de forma que cada bin tenha quase o mesmo número de instâncias."
   ]
  },
  {
   "cell_type": "code",
   "execution_count": 122,
   "metadata": {},
   "outputs": [
    {
     "data": {
      "text/plain": [
       "0         (-900.001, 537.0]\n",
       "1          (2505.0, 3600.0]\n",
       "2          (2505.0, 3600.0]\n",
       "3          (2505.0, 3600.0]\n",
       "4          (2505.0, 3600.0]\n",
       "                ...        \n",
       "362442    (-900.001, 537.0]\n",
       "362443    (-900.001, 537.0]\n",
       "362444    (-900.001, 537.0]\n",
       "362445    (-900.001, 537.0]\n",
       "362446    (-900.001, 537.0]\n",
       "Name: TimeSecs, Length: 361884, dtype: category\n",
       "Categories (4, interval[float64]): [(-900.001, 537.0] < (537.0, 1613.0] < (1613.0, 2505.0] < (2505.0, 3600.0]]"
      ]
     },
     "execution_count": 122,
     "metadata": {},
     "output_type": "execute_result"
    }
   ],
   "source": [
    "pd.qcut(df['TimeSecs'],q=4)"
   ]
  },
  {
   "cell_type": "code",
   "execution_count": 123,
   "metadata": {},
   "outputs": [
    {
     "data": {
      "text/plain": [
       "(537.0, 1613.0]      90521\n",
       "(-900.001, 537.0]    90486\n",
       "(1613.0, 2505.0]     90473\n",
       "(2505.0, 3600.0]     90404\n",
       "Name: TimeSecs, dtype: int64"
      ]
     },
     "execution_count": 123,
     "metadata": {},
     "output_type": "execute_result"
    }
   ],
   "source": [
    "pd.qcut(df['TimeSecs'],q=4 ).value_counts()"
   ]
  },
  {
   "cell_type": "code",
   "execution_count": null,
   "metadata": {},
   "outputs": [],
   "source": []
  },
  {
   "cell_type": "code",
   "execution_count": null,
   "metadata": {},
   "outputs": [],
   "source": []
  },
  {
   "cell_type": "code",
   "execution_count": null,
   "metadata": {},
   "outputs": [],
   "source": []
  },
  {
   "cell_type": "code",
   "execution_count": null,
   "metadata": {},
   "outputs": [],
   "source": []
  },
  {
   "cell_type": "code",
   "execution_count": null,
   "metadata": {},
   "outputs": [],
   "source": []
  },
  {
   "cell_type": "code",
   "execution_count": null,
   "metadata": {},
   "outputs": [],
   "source": []
  },
  {
   "cell_type": "code",
   "execution_count": null,
   "metadata": {},
   "outputs": [],
   "source": []
  },
  {
   "cell_type": "code",
   "execution_count": null,
   "metadata": {},
   "outputs": [],
   "source": []
  },
  {
   "cell_type": "code",
   "execution_count": null,
   "metadata": {},
   "outputs": [],
   "source": []
  },
  {
   "cell_type": "code",
   "execution_count": null,
   "metadata": {},
   "outputs": [],
   "source": []
  },
  {
   "cell_type": "code",
   "execution_count": null,
   "metadata": {},
   "outputs": [],
   "source": []
  },
  {
   "cell_type": "code",
   "execution_count": null,
   "metadata": {},
   "outputs": [],
   "source": []
  },
  {
   "cell_type": "code",
   "execution_count": null,
   "metadata": {},
   "outputs": [],
   "source": []
  },
  {
   "cell_type": "code",
   "execution_count": null,
   "metadata": {},
   "outputs": [],
   "source": []
  },
  {
   "cell_type": "code",
   "execution_count": null,
   "metadata": {},
   "outputs": [],
   "source": []
  },
  {
   "cell_type": "code",
   "execution_count": null,
   "metadata": {},
   "outputs": [],
   "source": []
  },
  {
   "cell_type": "code",
   "execution_count": null,
   "metadata": {},
   "outputs": [],
   "source": []
  },
  {
   "cell_type": "code",
   "execution_count": null,
   "metadata": {},
   "outputs": [],
   "source": []
  },
  {
   "cell_type": "code",
   "execution_count": null,
   "metadata": {},
   "outputs": [],
   "source": []
  },
  {
   "cell_type": "code",
   "execution_count": null,
   "metadata": {},
   "outputs": [],
   "source": []
  },
  {
   "cell_type": "code",
   "execution_count": null,
   "metadata": {},
   "outputs": [],
   "source": []
  },
  {
   "cell_type": "code",
   "execution_count": null,
   "metadata": {},
   "outputs": [],
   "source": []
  },
  {
   "cell_type": "code",
   "execution_count": null,
   "metadata": {},
   "outputs": [],
   "source": []
  },
  {
   "cell_type": "code",
   "execution_count": null,
   "metadata": {},
   "outputs": [],
   "source": []
  },
  {
   "cell_type": "code",
   "execution_count": null,
   "metadata": {},
   "outputs": [],
   "source": []
  },
  {
   "cell_type": "code",
   "execution_count": null,
   "metadata": {},
   "outputs": [],
   "source": []
  },
  {
   "cell_type": "code",
   "execution_count": null,
   "metadata": {},
   "outputs": [],
   "source": []
  },
  {
   "cell_type": "code",
   "execution_count": null,
   "metadata": {},
   "outputs": [],
   "source": []
  },
  {
   "cell_type": "code",
   "execution_count": null,
   "metadata": {},
   "outputs": [],
   "source": []
  },
  {
   "cell_type": "code",
   "execution_count": null,
   "metadata": {},
   "outputs": [],
   "source": []
  },
  {
   "cell_type": "code",
   "execution_count": null,
   "metadata": {},
   "outputs": [],
   "source": []
  },
  {
   "cell_type": "code",
   "execution_count": null,
   "metadata": {},
   "outputs": [],
   "source": []
  },
  {
   "cell_type": "code",
   "execution_count": null,
   "metadata": {},
   "outputs": [],
   "source": []
  },
  {
   "cell_type": "code",
   "execution_count": null,
   "metadata": {},
   "outputs": [],
   "source": []
  },
  {
   "cell_type": "code",
   "execution_count": null,
   "metadata": {},
   "outputs": [],
   "source": []
  },
  {
   "cell_type": "code",
   "execution_count": null,
   "metadata": {},
   "outputs": [],
   "source": []
  },
  {
   "cell_type": "code",
   "execution_count": null,
   "metadata": {},
   "outputs": [],
   "source": []
  },
  {
   "cell_type": "code",
   "execution_count": null,
   "metadata": {},
   "outputs": [],
   "source": []
  },
  {
   "cell_type": "code",
   "execution_count": null,
   "metadata": {},
   "outputs": [],
   "source": []
  },
  {
   "cell_type": "code",
   "execution_count": null,
   "metadata": {},
   "outputs": [],
   "source": []
  },
  {
   "cell_type": "code",
   "execution_count": null,
   "metadata": {},
   "outputs": [],
   "source": []
  },
  {
   "cell_type": "code",
   "execution_count": null,
   "metadata": {},
   "outputs": [],
   "source": []
  },
  {
   "cell_type": "code",
   "execution_count": null,
   "metadata": {},
   "outputs": [],
   "source": []
  },
  {
   "cell_type": "code",
   "execution_count": null,
   "metadata": {},
   "outputs": [],
   "source": []
  },
  {
   "cell_type": "code",
   "execution_count": null,
   "metadata": {},
   "outputs": [],
   "source": []
  },
  {
   "cell_type": "code",
   "execution_count": null,
   "metadata": {},
   "outputs": [],
   "source": []
  },
  {
   "cell_type": "code",
   "execution_count": null,
   "metadata": {},
   "outputs": [],
   "source": []
  },
  {
   "cell_type": "code",
   "execution_count": null,
   "metadata": {},
   "outputs": [],
   "source": []
  },
  {
   "cell_type": "code",
   "execution_count": null,
   "metadata": {},
   "outputs": [],
   "source": []
  },
  {
   "cell_type": "code",
   "execution_count": null,
   "metadata": {},
   "outputs": [],
   "source": []
  },
  {
   "cell_type": "code",
   "execution_count": null,
   "metadata": {},
   "outputs": [],
   "source": []
  },
  {
   "cell_type": "code",
   "execution_count": null,
   "metadata": {},
   "outputs": [],
   "source": []
  },
  {
   "cell_type": "code",
   "execution_count": null,
   "metadata": {},
   "outputs": [],
   "source": []
  },
  {
   "cell_type": "code",
   "execution_count": null,
   "metadata": {},
   "outputs": [],
   "source": []
  },
  {
   "cell_type": "code",
   "execution_count": null,
   "metadata": {},
   "outputs": [],
   "source": []
  },
  {
   "cell_type": "code",
   "execution_count": null,
   "metadata": {},
   "outputs": [],
   "source": []
  },
  {
   "cell_type": "code",
   "execution_count": null,
   "metadata": {},
   "outputs": [],
   "source": []
  },
  {
   "cell_type": "code",
   "execution_count": null,
   "metadata": {},
   "outputs": [],
   "source": []
  },
  {
   "cell_type": "code",
   "execution_count": null,
   "metadata": {},
   "outputs": [],
   "source": []
  },
  {
   "cell_type": "code",
   "execution_count": null,
   "metadata": {},
   "outputs": [],
   "source": []
  },
  {
   "cell_type": "code",
   "execution_count": null,
   "metadata": {},
   "outputs": [],
   "source": []
  },
  {
   "cell_type": "code",
   "execution_count": null,
   "metadata": {},
   "outputs": [],
   "source": []
  },
  {
   "cell_type": "code",
   "execution_count": null,
   "metadata": {},
   "outputs": [],
   "source": []
  },
  {
   "cell_type": "code",
   "execution_count": null,
   "metadata": {},
   "outputs": [],
   "source": []
  },
  {
   "cell_type": "code",
   "execution_count": null,
   "metadata": {},
   "outputs": [],
   "source": []
  },
  {
   "cell_type": "code",
   "execution_count": null,
   "metadata": {},
   "outputs": [],
   "source": []
  },
  {
   "cell_type": "code",
   "execution_count": null,
   "metadata": {},
   "outputs": [],
   "source": []
  },
  {
   "cell_type": "code",
   "execution_count": null,
   "metadata": {},
   "outputs": [],
   "source": []
  }
 ],
 "metadata": {
  "kernelspec": {
   "display_name": "Python 3",
   "language": "python",
   "name": "python3"
  },
  "language_info": {
   "codemirror_mode": {
    "name": "ipython",
    "version": 3
   },
   "file_extension": ".py",
   "mimetype": "text/x-python",
   "name": "python",
   "nbconvert_exporter": "python",
   "pygments_lexer": "ipython3",
   "version": "3.7.9"
  }
 },
 "nbformat": 4,
 "nbformat_minor": 4
}
